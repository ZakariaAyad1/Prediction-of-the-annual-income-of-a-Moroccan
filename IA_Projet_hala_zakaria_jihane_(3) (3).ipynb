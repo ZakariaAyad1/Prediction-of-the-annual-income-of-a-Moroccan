{
  "cells": [
    {
      "cell_type": "markdown",
      "source": [
        "# Mini-Projet IA : Prédiction du Revenu Annuel d'un Marocain\n",
        "\n",
        "*Auteurs du notebook (et potentiellement du projet) :*\n",
        "\n",
        "  -Hala QUERRICH\n",
        "\n",
        "  -Jihane ELAMRANI\n",
        "\n",
        "  -Zakaria AYAD .\n",
        "\n",
        "\n",
        "*Date de présentation prévue :* SAMEDI 17 Mai 2025\n",
        "\n",
        "##Objectifs\n",
        "\n",
        "Ce projet vise à développer un système de Machine Learning de bout en bout pour prédire le revenu annuel d'individus au Maroc. L'objectif principal est de simuler un cas d'usage réel, depuis la génération de données synthétiques jusqu'au déploiement d'un modèle prédictif via une application web."
      ],
      "metadata": {
        "id": "lKqSefptICR7"
      },
      "id": "lKqSefptICR7"
    },
    {
      "cell_type": "markdown",
      "id": "3b95dba6-3c06-428a-b432-90e422abcf0f",
      "metadata": {
        "id": "3b95dba6-3c06-428a-b432-90e422abcf0f"
      },
      "source": [
        "***Partie 1 : Importation des librairies***\n",
        "\n",
        "Dans cette partie, nous importons toutes les librairies nécessaires pour le projet, notamment pour la manipulation des données, la visualisation, l'exploration automatique, le machine learning, l'évaluation des modèles et la sauvegarde des résultats."
      ]
    },
    {
      "cell_type": "code",
      "source": [
        "!pip install numpy==1.23.5"
      ],
      "metadata": {
        "colab": {
          "base_uri": "https://localhost:8080/"
        },
        "id": "OWAjQkWFO9jJ",
        "outputId": "c9cee2d8-5858-4ffe-ed4f-2d60f75b0e3c"
      },
      "id": "OWAjQkWFO9jJ",
      "execution_count": null,
      "outputs": [
        {
          "output_type": "stream",
          "name": "stdout",
          "text": [
            "Requirement already satisfied: numpy==1.23.5 in /usr/local/lib/python3.11/dist-packages (1.23.5)\n"
          ]
        }
      ]
    },
    {
      "cell_type": "code",
      "source": [
        "!pip install sweetviz"
      ],
      "metadata": {
        "colab": {
          "base_uri": "https://localhost:8080/"
        },
        "id": "RQS5VFoUJpSI",
        "outputId": "c7277d58-b1df-43e9-de3e-af9b46e66137"
      },
      "id": "RQS5VFoUJpSI",
      "execution_count": 4,
      "outputs": [
        {
          "output_type": "stream",
          "name": "stdout",
          "text": [
            "Collecting sweetviz\n",
            "  Downloading sweetviz-2.3.1-py3-none-any.whl.metadata (24 kB)\n",
            "Requirement already satisfied: pandas!=1.0.0,!=1.0.1,!=1.0.2,>=0.25.3 in /usr/local/lib/python3.11/dist-packages (from sweetviz) (2.2.2)\n",
            "Requirement already satisfied: numpy>=1.16.0 in /usr/local/lib/python3.11/dist-packages (from sweetviz) (2.0.2)\n",
            "Requirement already satisfied: matplotlib>=3.1.3 in /usr/local/lib/python3.11/dist-packages (from sweetviz) (3.10.0)\n",
            "Requirement already satisfied: tqdm>=4.43.0 in /usr/local/lib/python3.11/dist-packages (from sweetviz) (4.67.1)\n",
            "Requirement already satisfied: scipy>=1.3.2 in /usr/local/lib/python3.11/dist-packages (from sweetviz) (1.15.3)\n",
            "Requirement already satisfied: jinja2>=2.11.1 in /usr/local/lib/python3.11/dist-packages (from sweetviz) (3.1.6)\n",
            "Requirement already satisfied: importlib-resources>=1.2.0 in /usr/local/lib/python3.11/dist-packages (from sweetviz) (6.5.2)\n",
            "Requirement already satisfied: MarkupSafe>=2.0 in /usr/local/lib/python3.11/dist-packages (from jinja2>=2.11.1->sweetviz) (3.0.2)\n",
            "Requirement already satisfied: contourpy>=1.0.1 in /usr/local/lib/python3.11/dist-packages (from matplotlib>=3.1.3->sweetviz) (1.3.2)\n",
            "Requirement already satisfied: cycler>=0.10 in /usr/local/lib/python3.11/dist-packages (from matplotlib>=3.1.3->sweetviz) (0.12.1)\n",
            "Requirement already satisfied: fonttools>=4.22.0 in /usr/local/lib/python3.11/dist-packages (from matplotlib>=3.1.3->sweetviz) (4.58.0)\n",
            "Requirement already satisfied: kiwisolver>=1.3.1 in /usr/local/lib/python3.11/dist-packages (from matplotlib>=3.1.3->sweetviz) (1.4.8)\n",
            "Requirement already satisfied: packaging>=20.0 in /usr/local/lib/python3.11/dist-packages (from matplotlib>=3.1.3->sweetviz) (24.2)\n",
            "Requirement already satisfied: pillow>=8 in /usr/local/lib/python3.11/dist-packages (from matplotlib>=3.1.3->sweetviz) (11.2.1)\n",
            "Requirement already satisfied: pyparsing>=2.3.1 in /usr/local/lib/python3.11/dist-packages (from matplotlib>=3.1.3->sweetviz) (3.2.3)\n",
            "Requirement already satisfied: python-dateutil>=2.7 in /usr/local/lib/python3.11/dist-packages (from matplotlib>=3.1.3->sweetviz) (2.9.0.post0)\n",
            "Requirement already satisfied: pytz>=2020.1 in /usr/local/lib/python3.11/dist-packages (from pandas!=1.0.0,!=1.0.1,!=1.0.2,>=0.25.3->sweetviz) (2025.2)\n",
            "Requirement already satisfied: tzdata>=2022.7 in /usr/local/lib/python3.11/dist-packages (from pandas!=1.0.0,!=1.0.1,!=1.0.2,>=0.25.3->sweetviz) (2025.2)\n",
            "Requirement already satisfied: six>=1.5 in /usr/local/lib/python3.11/dist-packages (from python-dateutil>=2.7->matplotlib>=3.1.3->sweetviz) (1.17.0)\n",
            "Downloading sweetviz-2.3.1-py3-none-any.whl (15.1 MB)\n",
            "\u001b[2K   \u001b[90m━━━━━━━━━━━━━━━━━━━━━━━━━━━━━━━━━━━━━━━━\u001b[0m \u001b[32m15.1/15.1 MB\u001b[0m \u001b[31m89.1 MB/s\u001b[0m eta \u001b[36m0:00:00\u001b[0m\n",
            "\u001b[?25hInstalling collected packages: sweetviz\n",
            "Successfully installed sweetviz-2.3.1\n"
          ]
        }
      ]
    },
    {
      "cell_type": "code",
      "execution_count": 5,
      "id": "347dc78b-f378-409a-ba9b-b03e66285a82",
      "metadata": {
        "id": "347dc78b-f378-409a-ba9b-b03e66285a82"
      },
      "outputs": [],
      "source": [
        "\n",
        "from sklearn.pipeline import Pipeline\n",
        "# Manipulation de données\n",
        "\n",
        "import numpy as np\n",
        "import pandas as pd\n",
        "\n",
        "# Visualisation\n",
        "import matplotlib.pyplot as plt\n",
        "import seaborn as sns\n",
        "\n",
        "# Exploration automatique\n",
        "import sweetviz as sv\n",
        "# ou : from ydata_profiling import ProfileReport si tu utilises ydata-profiling\n",
        "\n",
        "# Machine learning\n",
        "from sklearn.model_selection import train_test_split, GridSearchCV\n",
        "from sklearn.pipeline import make_pipeline\n",
        "from sklearn.preprocessing import StandardScaler, OneHotEncoder\n",
        "from sklearn.compose import ColumnTransformer\n",
        "from sklearn.impute import SimpleImputer\n",
        "\n",
        "# Modèles\n",
        "from sklearn.linear_model import LinearRegression\n",
        "from sklearn.tree import DecisionTreeRegressor\n",
        "from sklearn.ensemble import RandomForestRegressor, GradientBoostingRegressor\n",
        "from sklearn.neural_network import MLPRegressor\n",
        "\n",
        "# Évaluation\n",
        "from sklearn.metrics import mean_absolute_error, mean_squared_error, r2_score\n",
        "\n",
        "# Sauvegarde du modèle\n",
        "import joblib\n"
      ]
    },
    {
      "cell_type": "markdown",
      "id": "c76847ef-e34a-4fb3-b2ad-22f64534adc6",
      "metadata": {
        "id": "c76847ef-e34a-4fb3-b2ad-22f64534adc6"
      },
      "source": [
        "***Partie 2 : Charger et afficher ton dataset***\n",
        "\n",
        "Nous chargeons le dataset dataset_revenu_marocains.csv et affichons un aperçu des 10 premières instances pour comprendre sa structure."
      ]
    },
    {
      "cell_type": "code",
      "source": [
        "from google.colab import files\n",
        "uploaded = files.upload()\n"
      ],
      "metadata": {
        "colab": {
          "base_uri": "https://localhost:8080/",
          "height": 74
        },
        "id": "yM4C5i57N8l9",
        "outputId": "61098a09-4d94-4d71-c98d-edf516925baa"
      },
      "id": "yM4C5i57N8l9",
      "execution_count": 7,
      "outputs": [
        {
          "output_type": "display_data",
          "data": {
            "text/plain": [
              "<IPython.core.display.HTML object>"
            ],
            "text/html": [
              "\n",
              "     <input type=\"file\" id=\"files-d32843b8-28a2-4453-9769-5a744459d721\" name=\"files[]\" multiple disabled\n",
              "        style=\"border:none\" />\n",
              "     <output id=\"result-d32843b8-28a2-4453-9769-5a744459d721\">\n",
              "      Upload widget is only available when the cell has been executed in the\n",
              "      current browser session. Please rerun this cell to enable.\n",
              "      </output>\n",
              "      <script>// Copyright 2017 Google LLC\n",
              "//\n",
              "// Licensed under the Apache License, Version 2.0 (the \"License\");\n",
              "// you may not use this file except in compliance with the License.\n",
              "// You may obtain a copy of the License at\n",
              "//\n",
              "//      http://www.apache.org/licenses/LICENSE-2.0\n",
              "//\n",
              "// Unless required by applicable law or agreed to in writing, software\n",
              "// distributed under the License is distributed on an \"AS IS\" BASIS,\n",
              "// WITHOUT WARRANTIES OR CONDITIONS OF ANY KIND, either express or implied.\n",
              "// See the License for the specific language governing permissions and\n",
              "// limitations under the License.\n",
              "\n",
              "/**\n",
              " * @fileoverview Helpers for google.colab Python module.\n",
              " */\n",
              "(function(scope) {\n",
              "function span(text, styleAttributes = {}) {\n",
              "  const element = document.createElement('span');\n",
              "  element.textContent = text;\n",
              "  for (const key of Object.keys(styleAttributes)) {\n",
              "    element.style[key] = styleAttributes[key];\n",
              "  }\n",
              "  return element;\n",
              "}\n",
              "\n",
              "// Max number of bytes which will be uploaded at a time.\n",
              "const MAX_PAYLOAD_SIZE = 100 * 1024;\n",
              "\n",
              "function _uploadFiles(inputId, outputId) {\n",
              "  const steps = uploadFilesStep(inputId, outputId);\n",
              "  const outputElement = document.getElementById(outputId);\n",
              "  // Cache steps on the outputElement to make it available for the next call\n",
              "  // to uploadFilesContinue from Python.\n",
              "  outputElement.steps = steps;\n",
              "\n",
              "  return _uploadFilesContinue(outputId);\n",
              "}\n",
              "\n",
              "// This is roughly an async generator (not supported in the browser yet),\n",
              "// where there are multiple asynchronous steps and the Python side is going\n",
              "// to poll for completion of each step.\n",
              "// This uses a Promise to block the python side on completion of each step,\n",
              "// then passes the result of the previous step as the input to the next step.\n",
              "function _uploadFilesContinue(outputId) {\n",
              "  const outputElement = document.getElementById(outputId);\n",
              "  const steps = outputElement.steps;\n",
              "\n",
              "  const next = steps.next(outputElement.lastPromiseValue);\n",
              "  return Promise.resolve(next.value.promise).then((value) => {\n",
              "    // Cache the last promise value to make it available to the next\n",
              "    // step of the generator.\n",
              "    outputElement.lastPromiseValue = value;\n",
              "    return next.value.response;\n",
              "  });\n",
              "}\n",
              "\n",
              "/**\n",
              " * Generator function which is called between each async step of the upload\n",
              " * process.\n",
              " * @param {string} inputId Element ID of the input file picker element.\n",
              " * @param {string} outputId Element ID of the output display.\n",
              " * @return {!Iterable<!Object>} Iterable of next steps.\n",
              " */\n",
              "function* uploadFilesStep(inputId, outputId) {\n",
              "  const inputElement = document.getElementById(inputId);\n",
              "  inputElement.disabled = false;\n",
              "\n",
              "  const outputElement = document.getElementById(outputId);\n",
              "  outputElement.innerHTML = '';\n",
              "\n",
              "  const pickedPromise = new Promise((resolve) => {\n",
              "    inputElement.addEventListener('change', (e) => {\n",
              "      resolve(e.target.files);\n",
              "    });\n",
              "  });\n",
              "\n",
              "  const cancel = document.createElement('button');\n",
              "  inputElement.parentElement.appendChild(cancel);\n",
              "  cancel.textContent = 'Cancel upload';\n",
              "  const cancelPromise = new Promise((resolve) => {\n",
              "    cancel.onclick = () => {\n",
              "      resolve(null);\n",
              "    };\n",
              "  });\n",
              "\n",
              "  // Wait for the user to pick the files.\n",
              "  const files = yield {\n",
              "    promise: Promise.race([pickedPromise, cancelPromise]),\n",
              "    response: {\n",
              "      action: 'starting',\n",
              "    }\n",
              "  };\n",
              "\n",
              "  cancel.remove();\n",
              "\n",
              "  // Disable the input element since further picks are not allowed.\n",
              "  inputElement.disabled = true;\n",
              "\n",
              "  if (!files) {\n",
              "    return {\n",
              "      response: {\n",
              "        action: 'complete',\n",
              "      }\n",
              "    };\n",
              "  }\n",
              "\n",
              "  for (const file of files) {\n",
              "    const li = document.createElement('li');\n",
              "    li.append(span(file.name, {fontWeight: 'bold'}));\n",
              "    li.append(span(\n",
              "        `(${file.type || 'n/a'}) - ${file.size} bytes, ` +\n",
              "        `last modified: ${\n",
              "            file.lastModifiedDate ? file.lastModifiedDate.toLocaleDateString() :\n",
              "                                    'n/a'} - `));\n",
              "    const percent = span('0% done');\n",
              "    li.appendChild(percent);\n",
              "\n",
              "    outputElement.appendChild(li);\n",
              "\n",
              "    const fileDataPromise = new Promise((resolve) => {\n",
              "      const reader = new FileReader();\n",
              "      reader.onload = (e) => {\n",
              "        resolve(e.target.result);\n",
              "      };\n",
              "      reader.readAsArrayBuffer(file);\n",
              "    });\n",
              "    // Wait for the data to be ready.\n",
              "    let fileData = yield {\n",
              "      promise: fileDataPromise,\n",
              "      response: {\n",
              "        action: 'continue',\n",
              "      }\n",
              "    };\n",
              "\n",
              "    // Use a chunked sending to avoid message size limits. See b/62115660.\n",
              "    let position = 0;\n",
              "    do {\n",
              "      const length = Math.min(fileData.byteLength - position, MAX_PAYLOAD_SIZE);\n",
              "      const chunk = new Uint8Array(fileData, position, length);\n",
              "      position += length;\n",
              "\n",
              "      const base64 = btoa(String.fromCharCode.apply(null, chunk));\n",
              "      yield {\n",
              "        response: {\n",
              "          action: 'append',\n",
              "          file: file.name,\n",
              "          data: base64,\n",
              "        },\n",
              "      };\n",
              "\n",
              "      let percentDone = fileData.byteLength === 0 ?\n",
              "          100 :\n",
              "          Math.round((position / fileData.byteLength) * 100);\n",
              "      percent.textContent = `${percentDone}% done`;\n",
              "\n",
              "    } while (position < fileData.byteLength);\n",
              "  }\n",
              "\n",
              "  // All done.\n",
              "  yield {\n",
              "    response: {\n",
              "      action: 'complete',\n",
              "    }\n",
              "  };\n",
              "}\n",
              "\n",
              "scope.google = scope.google || {};\n",
              "scope.google.colab = scope.google.colab || {};\n",
              "scope.google.colab._files = {\n",
              "  _uploadFiles,\n",
              "  _uploadFilesContinue,\n",
              "};\n",
              "})(self);\n",
              "</script> "
            ]
          },
          "metadata": {}
        },
        {
          "output_type": "stream",
          "name": "stdout",
          "text": [
            "Saving dataset_revenu_marocains.csv to dataset_revenu_marocains.csv\n"
          ]
        }
      ]
    },
    {
      "cell_type": "code",
      "execution_count": 8,
      "id": "e7090ee4-f0e6-485d-ba6d-def31f93cde5",
      "metadata": {
        "colab": {
          "base_uri": "https://localhost:8080/",
          "height": 469
        },
        "id": "e7090ee4-f0e6-485d-ba6d-def31f93cde5",
        "outputId": "ca1b216c-3706-4583-c732-cf3cdc8f8977"
      },
      "outputs": [
        {
          "output_type": "execute_result",
          "data": {
            "text/plain": [
              "   Age   Sexe    Lieu Niveau_Education  Experience_Annees Etat_Matrimonial  \\\n",
              "0   56  Femme  Urbain        Superieur                 32      Celibataire   \n",
              "1   36  Homme   Rural      Fondamental                 13             Veuf   \n",
              "2   28  Homme   Rural      Sans niveau                 10      Celibataire   \n",
              "3   39  Homme   Rural        Superieur                 21            Marie   \n",
              "4   19  Femme   Rural              NaN                  0            Marie   \n",
              "5   59  Homme  Urbain       Secondaire                 37            Marie   \n",
              "6   33  Femme  Urbain        Superieur                  9            Marie   \n",
              "7   61  Femme   Rural       Secondaire                 39          Divorce   \n",
              "8   20  Femme  Urbain        Superieur                  0          Divorce   \n",
              "9   56  Homme  Urbain      Sans niveau                 31          Divorce   \n",
              "\n",
              "      Biens_Possedes Categorie_Socioprofessionnelle  Nombre_Enfants  \\\n",
              "0            Voiture  Artisans / Ouvriers qualifies               3   \n",
              "1              Aucun        Agriculteurs / Pecheurs               2   \n",
              "2                NaN          Manoeuvres / Chomeurs               4   \n",
              "3            Terrain  Artisans / Ouvriers qualifies               4   \n",
              "4              Aucun        Agriculteurs / Pecheurs               3   \n",
              "5  Maison et Terrain          Manoeuvres / Chomeurs               3   \n",
              "6  Voiture et Maison        Agriculteurs / Pecheurs               5   \n",
              "7            Terrain                       Inactifs               3   \n",
              "8  Maison et Terrain                       Inactifs               4   \n",
              "9            Terrain        Agriculteurs / Pecheurs               1   \n",
              "\n",
              "  Acces_Internet       Type_Transport  Revenu_Annuel Redondance_Transport  \\\n",
              "0            Non  Transport en commun   23404.069434     Véhicule partagé   \n",
              "1            Non  Transport en commun    9712.388157     Véhicule partagé   \n",
              "2            Non              Voiture    7252.063650   Véhicule personnel   \n",
              "3            Oui               Marche   22247.552207       Aucun véhicule   \n",
              "4            Oui               Marche    8101.779383       Aucun véhicule   \n",
              "5            Non  Transport en commun   24059.011768     Véhicule partagé   \n",
              "6            Non              Voiture   25568.361814   Véhicule personnel   \n",
              "7            Non              Voiture   78153.998944   Véhicule personnel   \n",
              "8            Oui               Marche   16704.627215       Aucun véhicule   \n",
              "9            Non              Voiture   24125.038431   Véhicule personnel   \n",
              "\n",
              "   Identifiant_Aleatoire  \n",
              "0                 204754  \n",
              "1                 153729  \n",
              "2                 620847  \n",
              "3                 387743  \n",
              "4                 699717  \n",
              "5                 378496  \n",
              "6                 201620  \n",
              "7                 935319  \n",
              "8                 845016  \n",
              "9                 180039  "
            ],
            "text/html": [
              "\n",
              "  <div id=\"df-1be220f3-5b23-4c99-9cca-1c525c1f5ba4\" class=\"colab-df-container\">\n",
              "    <div>\n",
              "<style scoped>\n",
              "    .dataframe tbody tr th:only-of-type {\n",
              "        vertical-align: middle;\n",
              "    }\n",
              "\n",
              "    .dataframe tbody tr th {\n",
              "        vertical-align: top;\n",
              "    }\n",
              "\n",
              "    .dataframe thead th {\n",
              "        text-align: right;\n",
              "    }\n",
              "</style>\n",
              "<table border=\"1\" class=\"dataframe\">\n",
              "  <thead>\n",
              "    <tr style=\"text-align: right;\">\n",
              "      <th></th>\n",
              "      <th>Age</th>\n",
              "      <th>Sexe</th>\n",
              "      <th>Lieu</th>\n",
              "      <th>Niveau_Education</th>\n",
              "      <th>Experience_Annees</th>\n",
              "      <th>Etat_Matrimonial</th>\n",
              "      <th>Biens_Possedes</th>\n",
              "      <th>Categorie_Socioprofessionnelle</th>\n",
              "      <th>Nombre_Enfants</th>\n",
              "      <th>Acces_Internet</th>\n",
              "      <th>Type_Transport</th>\n",
              "      <th>Revenu_Annuel</th>\n",
              "      <th>Redondance_Transport</th>\n",
              "      <th>Identifiant_Aleatoire</th>\n",
              "    </tr>\n",
              "  </thead>\n",
              "  <tbody>\n",
              "    <tr>\n",
              "      <th>0</th>\n",
              "      <td>56</td>\n",
              "      <td>Femme</td>\n",
              "      <td>Urbain</td>\n",
              "      <td>Superieur</td>\n",
              "      <td>32</td>\n",
              "      <td>Celibataire</td>\n",
              "      <td>Voiture</td>\n",
              "      <td>Artisans / Ouvriers qualifies</td>\n",
              "      <td>3</td>\n",
              "      <td>Non</td>\n",
              "      <td>Transport en commun</td>\n",
              "      <td>23404.069434</td>\n",
              "      <td>Véhicule partagé</td>\n",
              "      <td>204754</td>\n",
              "    </tr>\n",
              "    <tr>\n",
              "      <th>1</th>\n",
              "      <td>36</td>\n",
              "      <td>Homme</td>\n",
              "      <td>Rural</td>\n",
              "      <td>Fondamental</td>\n",
              "      <td>13</td>\n",
              "      <td>Veuf</td>\n",
              "      <td>Aucun</td>\n",
              "      <td>Agriculteurs / Pecheurs</td>\n",
              "      <td>2</td>\n",
              "      <td>Non</td>\n",
              "      <td>Transport en commun</td>\n",
              "      <td>9712.388157</td>\n",
              "      <td>Véhicule partagé</td>\n",
              "      <td>153729</td>\n",
              "    </tr>\n",
              "    <tr>\n",
              "      <th>2</th>\n",
              "      <td>28</td>\n",
              "      <td>Homme</td>\n",
              "      <td>Rural</td>\n",
              "      <td>Sans niveau</td>\n",
              "      <td>10</td>\n",
              "      <td>Celibataire</td>\n",
              "      <td>NaN</td>\n",
              "      <td>Manoeuvres / Chomeurs</td>\n",
              "      <td>4</td>\n",
              "      <td>Non</td>\n",
              "      <td>Voiture</td>\n",
              "      <td>7252.063650</td>\n",
              "      <td>Véhicule personnel</td>\n",
              "      <td>620847</td>\n",
              "    </tr>\n",
              "    <tr>\n",
              "      <th>3</th>\n",
              "      <td>39</td>\n",
              "      <td>Homme</td>\n",
              "      <td>Rural</td>\n",
              "      <td>Superieur</td>\n",
              "      <td>21</td>\n",
              "      <td>Marie</td>\n",
              "      <td>Terrain</td>\n",
              "      <td>Artisans / Ouvriers qualifies</td>\n",
              "      <td>4</td>\n",
              "      <td>Oui</td>\n",
              "      <td>Marche</td>\n",
              "      <td>22247.552207</td>\n",
              "      <td>Aucun véhicule</td>\n",
              "      <td>387743</td>\n",
              "    </tr>\n",
              "    <tr>\n",
              "      <th>4</th>\n",
              "      <td>19</td>\n",
              "      <td>Femme</td>\n",
              "      <td>Rural</td>\n",
              "      <td>NaN</td>\n",
              "      <td>0</td>\n",
              "      <td>Marie</td>\n",
              "      <td>Aucun</td>\n",
              "      <td>Agriculteurs / Pecheurs</td>\n",
              "      <td>3</td>\n",
              "      <td>Oui</td>\n",
              "      <td>Marche</td>\n",
              "      <td>8101.779383</td>\n",
              "      <td>Aucun véhicule</td>\n",
              "      <td>699717</td>\n",
              "    </tr>\n",
              "    <tr>\n",
              "      <th>5</th>\n",
              "      <td>59</td>\n",
              "      <td>Homme</td>\n",
              "      <td>Urbain</td>\n",
              "      <td>Secondaire</td>\n",
              "      <td>37</td>\n",
              "      <td>Marie</td>\n",
              "      <td>Maison et Terrain</td>\n",
              "      <td>Manoeuvres / Chomeurs</td>\n",
              "      <td>3</td>\n",
              "      <td>Non</td>\n",
              "      <td>Transport en commun</td>\n",
              "      <td>24059.011768</td>\n",
              "      <td>Véhicule partagé</td>\n",
              "      <td>378496</td>\n",
              "    </tr>\n",
              "    <tr>\n",
              "      <th>6</th>\n",
              "      <td>33</td>\n",
              "      <td>Femme</td>\n",
              "      <td>Urbain</td>\n",
              "      <td>Superieur</td>\n",
              "      <td>9</td>\n",
              "      <td>Marie</td>\n",
              "      <td>Voiture et Maison</td>\n",
              "      <td>Agriculteurs / Pecheurs</td>\n",
              "      <td>5</td>\n",
              "      <td>Non</td>\n",
              "      <td>Voiture</td>\n",
              "      <td>25568.361814</td>\n",
              "      <td>Véhicule personnel</td>\n",
              "      <td>201620</td>\n",
              "    </tr>\n",
              "    <tr>\n",
              "      <th>7</th>\n",
              "      <td>61</td>\n",
              "      <td>Femme</td>\n",
              "      <td>Rural</td>\n",
              "      <td>Secondaire</td>\n",
              "      <td>39</td>\n",
              "      <td>Divorce</td>\n",
              "      <td>Terrain</td>\n",
              "      <td>Inactifs</td>\n",
              "      <td>3</td>\n",
              "      <td>Non</td>\n",
              "      <td>Voiture</td>\n",
              "      <td>78153.998944</td>\n",
              "      <td>Véhicule personnel</td>\n",
              "      <td>935319</td>\n",
              "    </tr>\n",
              "    <tr>\n",
              "      <th>8</th>\n",
              "      <td>20</td>\n",
              "      <td>Femme</td>\n",
              "      <td>Urbain</td>\n",
              "      <td>Superieur</td>\n",
              "      <td>0</td>\n",
              "      <td>Divorce</td>\n",
              "      <td>Maison et Terrain</td>\n",
              "      <td>Inactifs</td>\n",
              "      <td>4</td>\n",
              "      <td>Oui</td>\n",
              "      <td>Marche</td>\n",
              "      <td>16704.627215</td>\n",
              "      <td>Aucun véhicule</td>\n",
              "      <td>845016</td>\n",
              "    </tr>\n",
              "    <tr>\n",
              "      <th>9</th>\n",
              "      <td>56</td>\n",
              "      <td>Homme</td>\n",
              "      <td>Urbain</td>\n",
              "      <td>Sans niveau</td>\n",
              "      <td>31</td>\n",
              "      <td>Divorce</td>\n",
              "      <td>Terrain</td>\n",
              "      <td>Agriculteurs / Pecheurs</td>\n",
              "      <td>1</td>\n",
              "      <td>Non</td>\n",
              "      <td>Voiture</td>\n",
              "      <td>24125.038431</td>\n",
              "      <td>Véhicule personnel</td>\n",
              "      <td>180039</td>\n",
              "    </tr>\n",
              "  </tbody>\n",
              "</table>\n",
              "</div>\n",
              "    <div class=\"colab-df-buttons\">\n",
              "\n",
              "  <div class=\"colab-df-container\">\n",
              "    <button class=\"colab-df-convert\" onclick=\"convertToInteractive('df-1be220f3-5b23-4c99-9cca-1c525c1f5ba4')\"\n",
              "            title=\"Convert this dataframe to an interactive table.\"\n",
              "            style=\"display:none;\">\n",
              "\n",
              "  <svg xmlns=\"http://www.w3.org/2000/svg\" height=\"24px\" viewBox=\"0 -960 960 960\">\n",
              "    <path d=\"M120-120v-720h720v720H120Zm60-500h600v-160H180v160Zm220 220h160v-160H400v160Zm0 220h160v-160H400v160ZM180-400h160v-160H180v160Zm440 0h160v-160H620v160ZM180-180h160v-160H180v160Zm440 0h160v-160H620v160Z\"/>\n",
              "  </svg>\n",
              "    </button>\n",
              "\n",
              "  <style>\n",
              "    .colab-df-container {\n",
              "      display:flex;\n",
              "      gap: 12px;\n",
              "    }\n",
              "\n",
              "    .colab-df-convert {\n",
              "      background-color: #E8F0FE;\n",
              "      border: none;\n",
              "      border-radius: 50%;\n",
              "      cursor: pointer;\n",
              "      display: none;\n",
              "      fill: #1967D2;\n",
              "      height: 32px;\n",
              "      padding: 0 0 0 0;\n",
              "      width: 32px;\n",
              "    }\n",
              "\n",
              "    .colab-df-convert:hover {\n",
              "      background-color: #E2EBFA;\n",
              "      box-shadow: 0px 1px 2px rgba(60, 64, 67, 0.3), 0px 1px 3px 1px rgba(60, 64, 67, 0.15);\n",
              "      fill: #174EA6;\n",
              "    }\n",
              "\n",
              "    .colab-df-buttons div {\n",
              "      margin-bottom: 4px;\n",
              "    }\n",
              "\n",
              "    [theme=dark] .colab-df-convert {\n",
              "      background-color: #3B4455;\n",
              "      fill: #D2E3FC;\n",
              "    }\n",
              "\n",
              "    [theme=dark] .colab-df-convert:hover {\n",
              "      background-color: #434B5C;\n",
              "      box-shadow: 0px 1px 3px 1px rgba(0, 0, 0, 0.15);\n",
              "      filter: drop-shadow(0px 1px 2px rgba(0, 0, 0, 0.3));\n",
              "      fill: #FFFFFF;\n",
              "    }\n",
              "  </style>\n",
              "\n",
              "    <script>\n",
              "      const buttonEl =\n",
              "        document.querySelector('#df-1be220f3-5b23-4c99-9cca-1c525c1f5ba4 button.colab-df-convert');\n",
              "      buttonEl.style.display =\n",
              "        google.colab.kernel.accessAllowed ? 'block' : 'none';\n",
              "\n",
              "      async function convertToInteractive(key) {\n",
              "        const element = document.querySelector('#df-1be220f3-5b23-4c99-9cca-1c525c1f5ba4');\n",
              "        const dataTable =\n",
              "          await google.colab.kernel.invokeFunction('convertToInteractive',\n",
              "                                                    [key], {});\n",
              "        if (!dataTable) return;\n",
              "\n",
              "        const docLinkHtml = 'Like what you see? Visit the ' +\n",
              "          '<a target=\"_blank\" href=https://colab.research.google.com/notebooks/data_table.ipynb>data table notebook</a>'\n",
              "          + ' to learn more about interactive tables.';\n",
              "        element.innerHTML = '';\n",
              "        dataTable['output_type'] = 'display_data';\n",
              "        await google.colab.output.renderOutput(dataTable, element);\n",
              "        const docLink = document.createElement('div');\n",
              "        docLink.innerHTML = docLinkHtml;\n",
              "        element.appendChild(docLink);\n",
              "      }\n",
              "    </script>\n",
              "  </div>\n",
              "\n",
              "\n",
              "    <div id=\"df-eb6b565f-8fd4-4792-a3bc-9f99d82fc628\">\n",
              "      <button class=\"colab-df-quickchart\" onclick=\"quickchart('df-eb6b565f-8fd4-4792-a3bc-9f99d82fc628')\"\n",
              "                title=\"Suggest charts\"\n",
              "                style=\"display:none;\">\n",
              "\n",
              "<svg xmlns=\"http://www.w3.org/2000/svg\" height=\"24px\"viewBox=\"0 0 24 24\"\n",
              "     width=\"24px\">\n",
              "    <g>\n",
              "        <path d=\"M19 3H5c-1.1 0-2 .9-2 2v14c0 1.1.9 2 2 2h14c1.1 0 2-.9 2-2V5c0-1.1-.9-2-2-2zM9 17H7v-7h2v7zm4 0h-2V7h2v10zm4 0h-2v-4h2v4z\"/>\n",
              "    </g>\n",
              "</svg>\n",
              "      </button>\n",
              "\n",
              "<style>\n",
              "  .colab-df-quickchart {\n",
              "      --bg-color: #E8F0FE;\n",
              "      --fill-color: #1967D2;\n",
              "      --hover-bg-color: #E2EBFA;\n",
              "      --hover-fill-color: #174EA6;\n",
              "      --disabled-fill-color: #AAA;\n",
              "      --disabled-bg-color: #DDD;\n",
              "  }\n",
              "\n",
              "  [theme=dark] .colab-df-quickchart {\n",
              "      --bg-color: #3B4455;\n",
              "      --fill-color: #D2E3FC;\n",
              "      --hover-bg-color: #434B5C;\n",
              "      --hover-fill-color: #FFFFFF;\n",
              "      --disabled-bg-color: #3B4455;\n",
              "      --disabled-fill-color: #666;\n",
              "  }\n",
              "\n",
              "  .colab-df-quickchart {\n",
              "    background-color: var(--bg-color);\n",
              "    border: none;\n",
              "    border-radius: 50%;\n",
              "    cursor: pointer;\n",
              "    display: none;\n",
              "    fill: var(--fill-color);\n",
              "    height: 32px;\n",
              "    padding: 0;\n",
              "    width: 32px;\n",
              "  }\n",
              "\n",
              "  .colab-df-quickchart:hover {\n",
              "    background-color: var(--hover-bg-color);\n",
              "    box-shadow: 0 1px 2px rgba(60, 64, 67, 0.3), 0 1px 3px 1px rgba(60, 64, 67, 0.15);\n",
              "    fill: var(--button-hover-fill-color);\n",
              "  }\n",
              "\n",
              "  .colab-df-quickchart-complete:disabled,\n",
              "  .colab-df-quickchart-complete:disabled:hover {\n",
              "    background-color: var(--disabled-bg-color);\n",
              "    fill: var(--disabled-fill-color);\n",
              "    box-shadow: none;\n",
              "  }\n",
              "\n",
              "  .colab-df-spinner {\n",
              "    border: 2px solid var(--fill-color);\n",
              "    border-color: transparent;\n",
              "    border-bottom-color: var(--fill-color);\n",
              "    animation:\n",
              "      spin 1s steps(1) infinite;\n",
              "  }\n",
              "\n",
              "  @keyframes spin {\n",
              "    0% {\n",
              "      border-color: transparent;\n",
              "      border-bottom-color: var(--fill-color);\n",
              "      border-left-color: var(--fill-color);\n",
              "    }\n",
              "    20% {\n",
              "      border-color: transparent;\n",
              "      border-left-color: var(--fill-color);\n",
              "      border-top-color: var(--fill-color);\n",
              "    }\n",
              "    30% {\n",
              "      border-color: transparent;\n",
              "      border-left-color: var(--fill-color);\n",
              "      border-top-color: var(--fill-color);\n",
              "      border-right-color: var(--fill-color);\n",
              "    }\n",
              "    40% {\n",
              "      border-color: transparent;\n",
              "      border-right-color: var(--fill-color);\n",
              "      border-top-color: var(--fill-color);\n",
              "    }\n",
              "    60% {\n",
              "      border-color: transparent;\n",
              "      border-right-color: var(--fill-color);\n",
              "    }\n",
              "    80% {\n",
              "      border-color: transparent;\n",
              "      border-right-color: var(--fill-color);\n",
              "      border-bottom-color: var(--fill-color);\n",
              "    }\n",
              "    90% {\n",
              "      border-color: transparent;\n",
              "      border-bottom-color: var(--fill-color);\n",
              "    }\n",
              "  }\n",
              "</style>\n",
              "\n",
              "      <script>\n",
              "        async function quickchart(key) {\n",
              "          const quickchartButtonEl =\n",
              "            document.querySelector('#' + key + ' button');\n",
              "          quickchartButtonEl.disabled = true;  // To prevent multiple clicks.\n",
              "          quickchartButtonEl.classList.add('colab-df-spinner');\n",
              "          try {\n",
              "            const charts = await google.colab.kernel.invokeFunction(\n",
              "                'suggestCharts', [key], {});\n",
              "          } catch (error) {\n",
              "            console.error('Error during call to suggestCharts:', error);\n",
              "          }\n",
              "          quickchartButtonEl.classList.remove('colab-df-spinner');\n",
              "          quickchartButtonEl.classList.add('colab-df-quickchart-complete');\n",
              "        }\n",
              "        (() => {\n",
              "          let quickchartButtonEl =\n",
              "            document.querySelector('#df-eb6b565f-8fd4-4792-a3bc-9f99d82fc628 button');\n",
              "          quickchartButtonEl.style.display =\n",
              "            google.colab.kernel.accessAllowed ? 'block' : 'none';\n",
              "        })();\n",
              "      </script>\n",
              "    </div>\n",
              "\n",
              "    </div>\n",
              "  </div>\n"
            ],
            "application/vnd.google.colaboratory.intrinsic+json": {
              "type": "dataframe",
              "variable_name": "df",
              "summary": "{\n  \"name\": \"df\",\n  \"rows\": 40000,\n  \"fields\": [\n    {\n      \"column\": \"Age\",\n      \"properties\": {\n        \"dtype\": \"number\",\n        \"std\": 15,\n        \"min\": 18,\n        \"max\": 70,\n        \"num_unique_values\": 53,\n        \"samples\": [\n          41,\n          42,\n          50\n        ],\n        \"semantic_type\": \"\",\n        \"description\": \"\"\n      }\n    },\n    {\n      \"column\": \"Sexe\",\n      \"properties\": {\n        \"dtype\": \"category\",\n        \"num_unique_values\": 2,\n        \"samples\": [\n          \"Homme\",\n          \"Femme\"\n        ],\n        \"semantic_type\": \"\",\n        \"description\": \"\"\n      }\n    },\n    {\n      \"column\": \"Lieu\",\n      \"properties\": {\n        \"dtype\": \"category\",\n        \"num_unique_values\": 2,\n        \"samples\": [\n          \"Rural\",\n          \"Urbain\"\n        ],\n        \"semantic_type\": \"\",\n        \"description\": \"\"\n      }\n    },\n    {\n      \"column\": \"Niveau_Education\",\n      \"properties\": {\n        \"dtype\": \"category\",\n        \"num_unique_values\": 4,\n        \"samples\": [\n          \"Fondamental\",\n          \"Secondaire\"\n        ],\n        \"semantic_type\": \"\",\n        \"description\": \"\"\n      }\n    },\n    {\n      \"column\": \"Experience_Annees\",\n      \"properties\": {\n        \"dtype\": \"number\",\n        \"std\": 15,\n        \"min\": 0,\n        \"max\": 52,\n        \"num_unique_values\": 53,\n        \"samples\": [\n          16,\n          33\n        ],\n        \"semantic_type\": \"\",\n        \"description\": \"\"\n      }\n    },\n    {\n      \"column\": \"Etat_Matrimonial\",\n      \"properties\": {\n        \"dtype\": \"category\",\n        \"num_unique_values\": 4,\n        \"samples\": [\n          \"Veuf\",\n          \"Divorce\"\n        ],\n        \"semantic_type\": \"\",\n        \"description\": \"\"\n      }\n    },\n    {\n      \"column\": \"Biens_Possedes\",\n      \"properties\": {\n        \"dtype\": \"category\",\n        \"num_unique_values\": 7,\n        \"samples\": [\n          \"Voiture\",\n          \"Aucun\"\n        ],\n        \"semantic_type\": \"\",\n        \"description\": \"\"\n      }\n    },\n    {\n      \"column\": \"Categorie_Socioprofessionnelle\",\n      \"properties\": {\n        \"dtype\": \"category\",\n        \"num_unique_values\": 6,\n        \"samples\": [\n          \"Artisans / Ouvriers qualifies\",\n          \"Agriculteurs / Pecheurs\"\n        ],\n        \"semantic_type\": \"\",\n        \"description\": \"\"\n      }\n    },\n    {\n      \"column\": \"Nombre_Enfants\",\n      \"properties\": {\n        \"dtype\": \"number\",\n        \"std\": 1,\n        \"min\": 0,\n        \"max\": 5,\n        \"num_unique_values\": 6,\n        \"samples\": [\n          3,\n          2\n        ],\n        \"semantic_type\": \"\",\n        \"description\": \"\"\n      }\n    },\n    {\n      \"column\": \"Acces_Internet\",\n      \"properties\": {\n        \"dtype\": \"category\",\n        \"num_unique_values\": 2,\n        \"samples\": [\n          \"Oui\",\n          \"Non\"\n        ],\n        \"semantic_type\": \"\",\n        \"description\": \"\"\n      }\n    },\n    {\n      \"column\": \"Type_Transport\",\n      \"properties\": {\n        \"dtype\": \"category\",\n        \"num_unique_values\": 3,\n        \"samples\": [\n          \"Transport en commun\",\n          \"Voiture\"\n        ],\n        \"semantic_type\": \"\",\n        \"description\": \"\"\n      }\n    },\n    {\n      \"column\": \"Revenu_Annuel\",\n      \"properties\": {\n        \"dtype\": \"number\",\n        \"std\": 22632.10113184773,\n        \"min\": 5000.0,\n        \"max\": 687304.6438388776,\n        \"num_unique_values\": 39539,\n        \"samples\": [\n          65433.35984184701,\n          12549.269780471568\n        ],\n        \"semantic_type\": \"\",\n        \"description\": \"\"\n      }\n    },\n    {\n      \"column\": \"Redondance_Transport\",\n      \"properties\": {\n        \"dtype\": \"category\",\n        \"num_unique_values\": 3,\n        \"samples\": [\n          \"V\\u00e9hicule partag\\u00e9\",\n          \"V\\u00e9hicule personnel\"\n        ],\n        \"semantic_type\": \"\",\n        \"description\": \"\"\n      }\n    },\n    {\n      \"column\": \"Identifiant_Aleatoire\",\n      \"properties\": {\n        \"dtype\": \"number\",\n        \"std\": 260415,\n        \"min\": 100016,\n        \"max\": 999965,\n        \"num_unique_values\": 39066,\n        \"samples\": [\n          151558,\n          425064\n        ],\n        \"semantic_type\": \"\",\n        \"description\": \"\"\n      }\n    }\n  ]\n}"
            }
          },
          "metadata": {},
          "execution_count": 8
        }
      ],
      "source": [
        "import pandas as pd\n",
        "# Charger les données\n",
        "df = pd.read_csv('dataset_revenu_marocains.csv')\n",
        "\n",
        "# Aperçu\n",
        "df.head(10)\n"
      ]
    },
    {
      "cell_type": "markdown",
      "id": "29fb0769-1332-46cc-83ad-932f33995508",
      "metadata": {
        "id": "29fb0769-1332-46cc-83ad-932f33995508"
      },
      "source": [
        "***Observations :***\n",
        "\n",
        "Le dataset contient des colonnes comme Age, Sexe, Lieu, Niveau_Education, Experience_Annees, etc., ainsi que la variable cible Revenu_Annuel. Nous remarquons également la présence de valeurs manquantes (NaN) et d'une colonne Identifiant_Aleatoire qui semble être non pertinente pour la prédiction."
      ]
    },
    {
      "cell_type": "markdown",
      "id": "bc2075c7-a12e-4f55-acb7-2137c9e64369",
      "metadata": {
        "id": "bc2075c7-a12e-4f55-acb7-2137c9e64369"
      },
      "source": [
        "***Partie 3 : Résumé des données***\n",
        "\n",
        "Nous analysons les dimensions, les types de données et les statistiques descriptives pour mieux comprendre le dataset."
      ]
    },
    {
      "cell_type": "code",
      "execution_count": 9,
      "id": "3710682e-5443-4d66-b60d-21aab5ae112d",
      "metadata": {
        "colab": {
          "base_uri": "https://localhost:8080/"
        },
        "id": "3710682e-5443-4d66-b60d-21aab5ae112d",
        "outputId": "ee68db35-d95a-441f-9dc9-7cbe4d4e55e5"
      },
      "outputs": [
        {
          "output_type": "stream",
          "name": "stdout",
          "text": [
            "Nombre total d'instances : 40000\n",
            "Dimensions du dataset : (40000, 14)\n"
          ]
        }
      ],
      "source": [
        "# Afficher le nombre total d'instances (lignes)\n",
        "volume = len(df)\n",
        "print(\"Nombre total d'instances :\", volume)\n",
        "\n",
        "# Dimensions du dataset\n",
        "print(\"Dimensions du dataset :\", df.shape)\n"
      ]
    },
    {
      "cell_type": "code",
      "execution_count": 10,
      "id": "436389f2-cfb0-4132-b2c9-b295726b3104",
      "metadata": {
        "colab": {
          "base_uri": "https://localhost:8080/"
        },
        "id": "436389f2-cfb0-4132-b2c9-b295726b3104",
        "outputId": "6af701b9-fcdf-4b1e-9d22-28a4b4663355"
      },
      "outputs": [
        {
          "output_type": "stream",
          "name": "stdout",
          "text": [
            "\n",
            "Types des données :\n",
            "Age                                 int64\n",
            "Sexe                               object\n",
            "Lieu                               object\n",
            "Niveau_Education                   object\n",
            "Experience_Annees                   int64\n",
            "Etat_Matrimonial                   object\n",
            "Biens_Possedes                     object\n",
            "Categorie_Socioprofessionnelle     object\n",
            "Nombre_Enfants                      int64\n",
            "Acces_Internet                     object\n",
            "Type_Transport                     object\n",
            "Revenu_Annuel                     float64\n",
            "Redondance_Transport               object\n",
            "Identifiant_Aleatoire               int64\n",
            "dtype: object\n"
          ]
        }
      ],
      "source": [
        "# Types des colonnes\n",
        "print(\"\\nTypes des données :\")\n",
        "print(df.dtypes)"
      ]
    },
    {
      "cell_type": "code",
      "execution_count": 11,
      "id": "7cf5844a-b575-4285-bcf2-0551c0bc0b42",
      "metadata": {
        "colab": {
          "base_uri": "https://localhost:8080/"
        },
        "id": "7cf5844a-b575-4285-bcf2-0551c0bc0b42",
        "outputId": "47108727-d704-4c87-8164-22d2396dabcf"
      },
      "outputs": [
        {
          "output_type": "stream",
          "name": "stdout",
          "text": [
            "\n",
            "Statistiques descriptives :\n",
            "                 Age   Sexe    Lieu Niveau_Education  Experience_Annees  \\\n",
            "count   40000.000000  40000   40000            38000       40000.000000   \n",
            "unique           NaN      2       2                4                NaN   \n",
            "top              NaN  Homme  Urbain        Superieur                NaN   \n",
            "freq             NaN  20097   20000             9648                NaN   \n",
            "mean       43.925250    NaN     NaN              NaN          22.630525   \n",
            "std        15.318953    NaN     NaN              NaN          15.163555   \n",
            "min        18.000000    NaN     NaN              NaN           0.000000   \n",
            "25%        31.000000    NaN     NaN              NaN           9.000000   \n",
            "50%        44.000000    NaN     NaN              NaN          22.000000   \n",
            "75%        57.000000    NaN     NaN              NaN          36.000000   \n",
            "max        70.000000    NaN     NaN              NaN          52.000000   \n",
            "\n",
            "       Etat_Matrimonial Biens_Possedes Categorie_Socioprofessionnelle  \\\n",
            "count             38000          38000                          40000   \n",
            "unique                4              7                              6   \n",
            "top             Divorce         Maison          Manoeuvres / Chomeurs   \n",
            "freq               9523           5537                           6716   \n",
            "mean                NaN            NaN                            NaN   \n",
            "std                 NaN            NaN                            NaN   \n",
            "min                 NaN            NaN                            NaN   \n",
            "25%                 NaN            NaN                            NaN   \n",
            "50%                 NaN            NaN                            NaN   \n",
            "75%                 NaN            NaN                            NaN   \n",
            "max                 NaN            NaN                            NaN   \n",
            "\n",
            "        Nombre_Enfants Acces_Internet Type_Transport  Revenu_Annuel  \\\n",
            "count     40000.000000          40000          40000   40000.000000   \n",
            "unique             NaN              2              3            NaN   \n",
            "top                NaN            Non        Voiture            NaN   \n",
            "freq               NaN          20018          13514            NaN   \n",
            "mean          2.501875            NaN            NaN   23655.017565   \n",
            "std           1.706640            NaN            NaN   22632.101132   \n",
            "min           0.000000            NaN            NaN    5000.000000   \n",
            "25%           1.000000            NaN            NaN   11590.331222   \n",
            "50%           3.000000            NaN            NaN   18374.738908   \n",
            "75%           4.000000            NaN            NaN   28790.055722   \n",
            "max           5.000000            NaN            NaN  687304.643839   \n",
            "\n",
            "       Redondance_Transport  Identifiant_Aleatoire  \n",
            "count                 40000           40000.000000  \n",
            "unique                    3                    NaN  \n",
            "top      Véhicule personnel                    NaN  \n",
            "freq                  13514                    NaN  \n",
            "mean                    NaN          548974.786175  \n",
            "std                     NaN          260415.599401  \n",
            "min                     NaN          100016.000000  \n",
            "25%                     NaN          323325.750000  \n",
            "50%                     NaN          548664.500000  \n",
            "75%                     NaN          775530.750000  \n",
            "max                     NaN          999965.000000  \n"
          ]
        }
      ],
      "source": [
        "# Statistiques descriptives\n",
        "print(\"\\nStatistiques descriptives :\")\n",
        "print(df.describe(include='all'))"
      ]
    },
    {
      "cell_type": "markdown",
      "id": "6cb98577-3405-4441-9a3f-92a49ecc50e6",
      "metadata": {
        "id": "6cb98577-3405-4441-9a3f-92a49ecc50e6"
      },
      "source": [
        "**Justification :**\n",
        "\n",
        "Ces graphiques permettent d'obtenir une vue d’ensemble claire sur la structure des données :\n",
        "\n",
        "- L’histogramme de l’âge aide à détecter les distributions anormales ou biaisées.\n",
        "\n",
        "- Le diagramme de barres du sexe révèle les déséquilibres potentiels.\n",
        "\n",
        "- Le boxplot du revenu par niveau d’éducation donne un aperçu de l’impact de la scolarité.\n",
        "\n",
        "- La matrice de corrélation aide à identifier les relations significatives entre variables numériques.\n",
        "\n",
        "Cette analyse visuelle est une étape cruciale avant d’entraîner un modèle de machine learning.\n"
      ]
    },
    {
      "cell_type": "code",
      "source": [
        "plt.figure(figsize=(8, 5))\n",
        "sns.histplot(data=df, x='Age', bins=30, kde=True, color='skyblue')\n",
        "plt.title('Distribution de l’âge')\n",
        "plt.xlabel('Âge')\n",
        "plt.ylabel('Nombre de personnes')\n",
        "plt.show()\n"
      ],
      "metadata": {
        "colab": {
          "base_uri": "https://localhost:8080/",
          "height": 490
        },
        "id": "TLrFl93QD4Si",
        "outputId": "2896ba94-8b1a-440a-e851-c89afcae6946"
      },
      "id": "TLrFl93QD4Si",
      "execution_count": 17,
      "outputs": [
        {
          "output_type": "display_data",
          "data": {
            "text/plain": [
              "<Figure size 800x500 with 1 Axes>"
            ],
            "image/png": "[encoded data removed]"
          },
          "metadata": {}
        }
      ]
    },
    {
      "cell_type": "code",
      "source": [
        "plt.figure(figsize=(6, 4))\n",
        "sns.countplot(data=df, x='Sexe', hue='Sexe', palette='pastel', legend=False)\n",
        "plt.title('Répartition des individus par sexe')\n",
        "plt.xlabel('Sexe')\n",
        "plt.ylabel('Nombre')\n",
        "plt.show()\n"
      ],
      "metadata": {
        "colab": {
          "base_uri": "https://localhost:8080/",
          "height": 411
        },
        "id": "JAKgvQQfEUUN",
        "outputId": "223ebc16-171f-4ac0-cc97-21fcc4c5392f"
      },
      "id": "JAKgvQQfEUUN",
      "execution_count": 20,
      "outputs": [
        {
          "output_type": "display_data",
          "data": {
            "text/plain": [
              "<Figure size 600x400 with 1 Axes>"
            ],
            "image/png": "[encoded data removed]"
          },
          "metadata": {}
        }
      ]
    },
    {
      "cell_type": "code",
      "source": [
        "plt.figure(figsize=(10, 5))\n",
        "sns.boxplot(data=df, x='Niveau_Education', y='Revenu_Annuel', hue='Niveau_Education', palette='Set2', dodge=False, legend=False)\n",
        "plt.title('Distribution du revenu annuel selon le niveau d’éducation')\n",
        "plt.xticks(rotation=45)\n",
        "plt.ylabel('Revenu Annuel')\n",
        "plt.show()\n",
        "\n"
      ],
      "metadata": {
        "colab": {
          "base_uri": "https://localhost:8080/",
          "height": 547
        },
        "id": "Sd4tlTD0EVyD",
        "outputId": "d3740512-0551-4ce9-c8e1-30aeee15b59d"
      },
      "id": "Sd4tlTD0EVyD",
      "execution_count": 21,
      "outputs": [
        {
          "output_type": "display_data",
          "data": {
            "text/plain": [
              "<Figure size 1000x500 with 1 Axes>"
            ],
            "image/png": "[encoded data removed]"
          },
          "metadata": {}
        }
      ]
    },
    {
      "cell_type": "code",
      "source": [
        "plt.figure(figsize=(10, 8))\n",
        "corr_matrix = df.corr(numeric_only=True)\n",
        "sns.heatmap(corr_matrix, annot=True, cmap='coolwarm', fmt=\".2f\")\n",
        "plt.title('Matrice de corrélation des variables numériques')\n",
        "plt.show()\n"
      ],
      "metadata": {
        "colab": {
          "base_uri": "https://localhost:8080/",
          "height": 826
        },
        "id": "oqd_rtNoEa6O",
        "outputId": "bbc9be01-e24f-4a53-c5f3-df0625860ffb"
      },
      "id": "oqd_rtNoEa6O",
      "execution_count": 23,
      "outputs": [
        {
          "output_type": "display_data",
          "data": {
            "text/plain": [
              "<Figure size 1000x800 with 2 Axes>"
            ],
            "image/png": "[encoded data removed]"
          },
          "metadata": {}
        }
      ]
    },
    {
      "cell_type": "markdown",
      "id": "8a80b1d8-1290-46df-92b2-dc6b541cfc11",
      "metadata": {
        "id": "8a80b1d8-1290-46df-92b2-dc6b541cfc11"
      },
      "source": [
        "***Partie 4 : Analyse automatique du dataset***\n",
        "\n",
        "Nous utilisons Sweetviz pour générer un rapport d'analyse automatique, ce qui nous permet d'identifier rapidement les corrélations, les valeurs manquantes et les distributions des variables."
      ]
    },
    {
      "cell_type": "code",
      "execution_count": null,
      "id": "c8044236-2404-43af-80fa-9909b192d720",
      "metadata": {
        "colab": {
          "base_uri": "https://localhost:8080/",
          "height": 87,
          "referenced_widgets": [
            "8d27d8da77f2435e9902f2e2f1b435f4",
            "2dc2397be8334644b173e3bb74266504",
            "1e41b0a469f84f12a2ea86fde070b6c4",
            "1c1a0d76d4d548628ba8027e315a829a",
            "3ef05727183d46d3ad24e84eaac8885d",
            "da38c649e8124f0ca37084e2f9e41247",
            "2286bb8f76794ef1814cb7b1f0d3d8e1",
            "d62e0f9011ba47e5a546c13fb06716ea",
            "7625c73146cb4d748647726389505a4f",
            "4a70348cd54e450cb115c133afc13409",
            "a3bcd2d55dab499fbd46b1a3665baa45"
          ]
        },
        "id": "c8044236-2404-43af-80fa-9909b192d720",
        "outputId": "75372d9b-7be3-480a-b73d-ab1ee8565dcb"
      },
      "outputs": [
        {
          "output_type": "display_data",
          "data": {
            "text/plain": [
              "                                             |          | [  0%]   00:00 -> (? left)"
            ],
            "application/vnd.jupyter.widget-view+json": {
              "version_major": 2,
              "version_minor": 0,
              "model_id": "8d27d8da77f2435e9902f2e2f1b435f4"
            }
          },
          "metadata": {}
        },
        {
          "output_type": "stream",
          "name": "stdout",
          "text": [
            "Report rapport_AI_analyse.html was generated! NOTEBOOK/COLAB USERS: the web browser MAY not pop up, regardless, the report IS saved in your notebook/colab files.\n"
          ]
        }
      ],
      "source": [
        "\n",
        "import warnings\n",
        "import numpy as np\n",
        "import sweetviz as sv\n",
        "# Analyse Sweetviz\n",
        "# Ignore VisibleDeprecationWarning using warnings.filterwarnings\n",
        "with warnings.catch_warnings():\n",
        "    # Use builtins.VisibleDeprecationWarning instead of np.VisibleDeprecationWarning\n",
        "    warnings.filterwarnings('ignore', category=DeprecationWarning)\n",
        "    # Changed to FutureWarning\n",
        "    warnings.filterwarnings('ignore', category=FutureWarning)\n",
        "    df = pd.read_csv('dataset_revenu_marocains.csv')\n",
        "\n",
        "    rapport = sv.analyze(df)\n",
        "rapport.show_html('rapport_AI_analyse.html')"
      ]
    },
    {
      "cell_type": "markdown",
      "id": "c00ca312-3cb9-41ae-bbbb-6a112fd83492",
      "metadata": {
        "id": "c00ca312-3cb9-41ae-bbbb-6a112fd83492"
      },
      "source": [
        "Le rapport généré (rapport_AI_analyse.html) permet de visualiser les distributions, les valeurs manquantes et les relations entre les variables."
      ]
    },
    {
      "cell_type": "markdown",
      "id": "7f25bbf1-ddca-4401-a2ef-01ab6eaec898",
      "metadata": {
        "id": "7f25bbf1-ddca-4401-a2ef-01ab6eaec898"
      },
      "source": [
        "***Partie 5 : Nettoyage des données***"
      ]
    },
    {
      "cell_type": "markdown",
      "id": "80fad25c-d1e1-409a-b664-c98f81787ee0",
      "metadata": {
        "id": "80fad25c-d1e1-409a-b664-c98f81787ee0"
      },
      "source": [
        "**5.1 - Suppression des doublons**\n",
        "\n",
        "-Objectif : Éviter que des enregistrements identiques biaisent l'entraînement du modèle.\n",
        "\n",
        "-Méthode : df.drop_duplicates() supprime les lignes dupliquées.\n",
        "\n",
        "-Pourquoi :\n",
        "\n",
        "   +Les doublons peuvent fausser les statistiques (ex: moyenne du revenu).\n",
        "   \n",
        "   +Risque de surapprentissage si le modèle \"mémorise\" des données répétées."
      ]
    },
    {
      "cell_type": "code",
      "execution_count": 12,
      "id": "a5ad0afd-1ce9-4f20-8d3e-8f3f4c6bfa2d",
      "metadata": {
        "id": "a5ad0afd-1ce9-4f20-8d3e-8f3f4c6bfa2d",
        "colab": {
          "base_uri": "https://localhost:8080/"
        },
        "outputId": "71aa08b4-387d-4860-d186-10079a7894c3"
      },
      "outputs": [
        {
          "output_type": "stream",
          "name": "stdout",
          "text": [
            "Doublons avant suppression: 0\n",
            "Doublons après suppression: 0\n"
          ]
        }
      ],
      "source": [
        "print(f\"Doublons avant suppression: {df.duplicated().sum()}\")\n",
        "df = df.drop_duplicates()\n",
        "print(f\"Doublons après suppression: {df.duplicated().sum()}\")"
      ]
    },
    {
      "cell_type": "markdown",
      "id": "ec55942a-6ac0-4041-9246-32ba9d38f9ab",
      "metadata": {
        "id": "ec55942a-6ac0-4041-9246-32ba9d38f9ab"
      },
      "source": [
        "**5.2 - Gérer les valeurs manquantes**\n",
        "\n",
        "-Colonnes ciblées : Niveau_Education, Etat_Matrimonial, Biens_Possedes (catégorielles).\n",
        "\n",
        "\n",
        "  "
      ]
    },
    {
      "cell_type": "code",
      "execution_count": 13,
      "id": "39761c1f-d687-47b7-9610-4241214326c5",
      "metadata": {
        "id": "39761c1f-d687-47b7-9610-4241214326c5",
        "colab": {
          "base_uri": "https://localhost:8080/"
        },
        "outputId": "3e706002-769f-4670-d0e5-d184402d1ea5"
      },
      "outputs": [
        {
          "output_type": "stream",
          "name": "stdout",
          "text": [
            "\n",
            "Valeurs manquantes avant traitement:\n",
            "Age                                  0\n",
            "Sexe                                 0\n",
            "Lieu                                 0\n",
            "Niveau_Education                  2000\n",
            "Experience_Annees                    0\n",
            "Etat_Matrimonial                  2000\n",
            "Biens_Possedes                    2000\n",
            "Categorie_Socioprofessionnelle       0\n",
            "Nombre_Enfants                       0\n",
            "Acces_Internet                       0\n",
            "Type_Transport                       0\n",
            "Revenu_Annuel                        0\n",
            "Redondance_Transport                 0\n",
            "Identifiant_Aleatoire                0\n",
            "dtype: int64\n",
            "Colonne Niveau_Education remplie avec le mode: Superieur\n",
            "Colonne Etat_Matrimonial remplie avec le mode: Divorce\n",
            "Colonne Biens_Possedes remplie avec le mode: Maison\n",
            "\n",
            "Valeurs manquantes après traitement:\n",
            "Age                               0\n",
            "Sexe                              0\n",
            "Lieu                              0\n",
            "Niveau_Education                  0\n",
            "Experience_Annees                 0\n",
            "Etat_Matrimonial                  0\n",
            "Biens_Possedes                    0\n",
            "Categorie_Socioprofessionnelle    0\n",
            "Nombre_Enfants                    0\n",
            "Acces_Internet                    0\n",
            "Type_Transport                    0\n",
            "Revenu_Annuel                     0\n",
            "Redondance_Transport              0\n",
            "Identifiant_Aleatoire             0\n",
            "dtype: int64\n"
          ]
        }
      ],
      "source": [
        "\n",
        "print(\"\\nValeurs manquantes avant traitement:\")\n",
        "print(df.isnull().sum())\n",
        "\n",
        "for col in ['Niveau_Education', 'Etat_Matrimonial', 'Biens_Possedes']:\n",
        "    mode_val = df[col].mode()[0]\n",
        "    df[col] = df[col].fillna(mode_val)\n",
        "    print(f\"Colonne {col} remplie avec le mode: {mode_val}\")\n",
        "\n",
        "print(\"\\nValeurs manquantes après traitement:\")\n",
        "print(df.isnull().sum())\n"
      ]
    },
    {
      "cell_type": "markdown",
      "id": "3dfe9bc5-19f2-4e3d-b8a4-0ac847e46097",
      "metadata": {
        "id": "3dfe9bc5-19f2-4e3d-b8a4-0ac847e46097"
      },
      "source": [
        "**5.3 - Gérer les valeurs aberrantes**\n",
        "\n",
        "-Cible : Revenu_Annuel supérieur au 99e percentile.\n",
        "\n",
        "-Méthode : df[df['Revenu_Annuel'] < revenu_99].\n",
        "\n",
        "nettoie les données en éliminant les très hauts revenus considérés comme des valeurs aberrantes, ce qui permet d’éviter que ces valeurs extrêmes biaisent les analyses statistiques ou les modèles prédictifs"
      ]
    },
    {
      "cell_type": "code",
      "execution_count": 14,
      "id": "89bb7741-4791-41bb-a829-5984357aff7f",
      "metadata": {
        "id": "89bb7741-4791-41bb-a829-5984357aff7f",
        "colab": {
          "base_uri": "https://localhost:8080/"
        },
        "outputId": "792b1931-d025-4369-f27c-923072d24620"
      },
      "outputs": [
        {
          "output_type": "stream",
          "name": "stdout",
          "text": [
            "\n",
            "Seuil pour les valeurs aberrantes (99e percentile): 88374.08\n",
            "Nombre de valeurs aberrantes avant traitement: 400\n",
            "Nombre de valeurs aberrantes après traitement: 0\n",
            "\n",
            "Dimensions finales: (39600, 14)\n"
          ]
        }
      ],
      "source": [
        "revenu_99 = df['Revenu_Annuel'].quantile(0.99)\n",
        "print(f\"\\nSeuil pour les valeurs aberrantes (99e percentile): {revenu_99:.2f}\")\n",
        "\n",
        "print(f\"Nombre de valeurs aberrantes avant traitement: {len(df[df['Revenu_Annuel'] > revenu_99])}\")\n",
        "df = df[df['Revenu_Annuel'] < revenu_99]\n",
        "print(f\"Nombre de valeurs aberrantes après traitement: {len(df[df['Revenu_Annuel'] > revenu_99])}\")\n",
        "\n",
        "# Vérification finale des dimensions\n",
        "print(f\"\\nDimensions finales: {df.shape}\")\n"
      ]
    },
    {
      "cell_type": "markdown",
      "id": "9f8bb89d-d487-4154-a194-1f8bf2c4cbfe",
      "metadata": {
        "id": "9f8bb89d-d487-4154-a194-1f8bf2c4cbfe"
      },
      "source": [
        "***Partie 6 : Préparation des données (pipeline)***"
      ]
    },
    {
      "cell_type": "markdown",
      "id": "b13719d7-1408-4276-8ea8-a44ac718622c",
      "metadata": {
        "id": "b13719d7-1408-4276-8ea8-a44ac718622c"
      },
      "source": [
        "**6.1 - Séparation des caractéristiques (X) et de la cible (y)**\n",
        "\n",
        "-Variables prédictives (X) : Toutes les colonnes sauf Revenu_Annuel (cible) et                    Identifiant_Aleatoire (non pertinent).\n",
        "\n",
        "-Justification :\n",
        "\n",
        "   +L'identifiant est une métadonnée sans lien causal avec le revenu ."
      ]
    },
    {
      "cell_type": "code",
      "execution_count": 15,
      "id": "396340cd-d1da-4f16-85c8-6e2474c88ac3",
      "metadata": {
        "id": "396340cd-d1da-4f16-85c8-6e2474c88ac3"
      },
      "outputs": [],
      "source": [
        "X = df.drop(['Revenu_Annuel', 'Identifiant_Aleatoire', 'Redondance_Transport'], axis=1)\n",
        "y = df['Revenu_Annuel']"
      ]
    },
    {
      "cell_type": "code",
      "execution_count": null,
      "id": "61c17ed5-ef82-41c8-a7b4-282ec897a059",
      "metadata": {
        "colab": {
          "base_uri": "https://localhost:8080/"
        },
        "id": "61c17ed5-ef82-41c8-a7b4-282ec897a059",
        "outputId": "6ba05136-e037-4251-8b74-4ae013f79ef7"
      },
      "outputs": [
        {
          "output_type": "stream",
          "name": "stdout",
          "text": [
            "Index(['Age', 'Sexe', 'Lieu', 'Niveau_Education', 'Experience_Annees',\n",
            "       'Etat_Matrimonial', 'Biens_Possedes', 'Categorie_Socioprofessionnelle',\n",
            "       'Nombre_Enfants', 'Acces_Internet', 'Type_Transport', 'Revenu_Annuel',\n",
            "       'Redondance_Transport', 'Identifiant_Aleatoire'],\n",
            "      dtype='object')\n"
          ]
        }
      ],
      "source": [
        "print(df.columns)\n"
      ]
    },
    {
      "cell_type": "markdown",
      "id": "47d08035-c111-4f03-9c2e-5f74135603df",
      "metadata": {
        "id": "47d08035-c111-4f03-9c2e-5f74135603df"
      },
      "source": [
        "**6.2 - Division Train/Test (70%/30%)**\n",
        "\n",
        "-Méthode : train_test_split(X, y, test_size=0.3, random_state=42).\n",
        "\n",
        "-Pourquoi :\n",
        "\n",
        "   +70%/30% : Ratio standard pour avoir suffisamment de données d'entraînement tout en validant   le modèle.\n",
        "   \n",
        "   +random_state=42 : Garantit la reproductibilité des résultats."
      ]
    },
    {
      "cell_type": "code",
      "execution_count": 16,
      "id": "23ca13a4-acd3-45db-8fc7-9c251fcd8c7a",
      "metadata": {
        "id": "23ca13a4-acd3-45db-8fc7-9c251fcd8c7a",
        "colab": {
          "base_uri": "https://localhost:8080/",
          "height": 618
        },
        "outputId": "6e222b63-b065-49f9-bc2f-bc4b1a196dbf"
      },
      "outputs": [
        {
          "output_type": "display_data",
          "data": {
            "text/plain": [
              "<Figure size 800x600 with 1 Axes>"
            ],
            "image/png": "[encoded data removed]"
          },
          "metadata": {}
        },
        {
          "output_type": "stream",
          "name": "stdout",
          "text": [
            "\n",
            "Détails de la répartition:\n",
            "- Ensemble d'entraînement: 27720 échantillons (70.0%)\n",
            "- Ensemble de test: 11880 échantillons (30.0%)\n"
          ]
        }
      ],
      "source": [
        "from sklearn.model_selection import train_test_split\n",
        "import matplotlib.pyplot as plt\n",
        "\n",
        "# Division des données\n",
        "X_train, X_test, y_train, y_test = train_test_split(X, y, test_size=0.3, random_state=42)\n",
        "\n",
        "# Création du graphique\n",
        "plt.figure(figsize=(8, 6))\n",
        "\n",
        "# Diagramme en barres\n",
        "bars = plt.bar(['Entraînement', 'Test'],\n",
        "               [X_train.shape[0], X_test.shape[0]],\n",
        "               color=['#1f77b4', '#ff7f0e'])\n",
        "\n",
        "# Ajout des valeurs sur les barres\n",
        "for bar in bars:\n",
        "    height = bar.get_height()\n",
        "    plt.text(bar.get_x() + bar.get_width()/2., height,\n",
        "             f'{height:,}'.replace(',', ' '),\n",
        "             ha='center', va='bottom')\n",
        "\n",
        "# Personnalisation\n",
        "plt.title('Répartition des données entre entraînement et test')\n",
        "plt.ylabel('Nombre d\\'échantillons')\n",
        "plt.grid(axis='y', linestyle='--', alpha=0.7)\n",
        "\n",
        "plt.show()\n",
        "\n",
        "# Affichage texte complémentaire\n",
        "print(f\"\\nDétails de la répartition:\")\n",
        "print(f\"- Ensemble d'entraînement: {X_train.shape[0]} échantillons ({X_train.shape[0]/len(X)*100:.1f}%)\")\n",
        "print(f\"- Ensemble de test: {X_test.shape[0]} échantillons ({X_test.shape[0]/len(X)*100:.1f}%)\")"
      ]
    },
    {
      "cell_type": "markdown",
      "id": "b39910b1-d81a-450e-8713-33d868cfe34f",
      "metadata": {
        "id": "b39910b1-d81a-450e-8713-33d868cfe34f"
      },
      "source": [
        "**6.3 - Construction du préprocesseur**:\n",
        "         Nous créons un pipeline pour prétraiter les données numériques (normalisation) et\n",
        "         catégorielles (encodage one-hot).\n",
        "\n",
        "-Colonnes numériques : Standardisation après imputation des valeurs manquantes par la moyenne .\n",
        "\n",
        "-Colonnes catégorielles : Encodage one-hot après imputation par le mode.\n",
        "    \n"
      ]
    },
    {
      "cell_type": "code",
      "execution_count": null,
      "id": "4c84b918-61f1-444d-a647-9bb73c1aff50",
      "metadata": {
        "id": "4c84b918-61f1-444d-a647-9bb73c1aff50",
        "colab": {
          "base_uri": "https://localhost:8080/"
        },
        "outputId": "5a474654-5b9a-4608-8a11-5be4d9e0d86d"
      },
      "outputs": [
        {
          "output_type": "stream",
          "name": "stdout",
          "text": [
            "\n",
            "Prétraitement terminé avec succès\n"
          ]
        }
      ],
      "source": [
        "num_cols = X.select_dtypes(include=['int64', 'float64']).columns\n",
        "cat_cols = X.select_dtypes(include=['object']).columns\n",
        "\n",
        "# Pipeline pour les variables numériques\n",
        "num_pipeline = Pipeline([\n",
        "    ('imputer', SimpleImputer(strategy='median')),\n",
        "    ('scaler', StandardScaler())\n",
        "])\n",
        "\n",
        "# Pipeline pour les variables catégorielles\n",
        "cat_pipeline = Pipeline([\n",
        "    ('imputer', SimpleImputer(strategy='most_frequent')),\n",
        "    ('onehot', OneHotEncoder(handle_unknown='ignore'))\n",
        "])\n",
        "\n",
        "# Combinaison des pipelines\n",
        "preprocessor = ColumnTransformer([\n",
        "    ('num', num_pipeline, num_cols),\n",
        "    ('cat', cat_pipeline, cat_cols)\n",
        "])\n",
        "\n",
        "# Application du prétraitement\n",
        "X_train_preprocessed = preprocessor.fit_transform(X_train)\n",
        "X_test_preprocessed = preprocessor.transform(X_test)\n",
        "\n",
        "print(\"\\nPrétraitement terminé avec succès\")"
      ]
    },
    {
      "cell_type": "markdown",
      "id": "ede58cc7-189d-4bc0-adb8-18b0d9ac53ed",
      "metadata": {
        "id": "ede58cc7-189d-4bc0-adb8-18b0d9ac53ed"
      },
      "source": [
        "***Partie 7 : Construction et validation des modèles***"
      ]
    },
    {
      "cell_type": "markdown",
      "id": "1033f6f9-8822-4625-9a33-c5c39b0bbb68",
      "metadata": {
        "id": "1033f6f9-8822-4625-9a33-c5c39b0bbb68"
      },
      "source": [
        "**7.1 - Définition des modèles et des hyperparamètres**\n",
        "\n",
        "Nous utilisons 5 modèles de régression et définissons leurs hyperparamètres pour l'optimisation via GridSearchCV."
      ]
    },
    {
      "cell_type": "code",
      "execution_count": 24,
      "id": "b301b542-1dd2-4f3f-a07d-a2be571ab9b2",
      "metadata": {
        "id": "b301b542-1dd2-4f3f-a07d-a2be571ab9b2",
        "colab": {
          "base_uri": "https://localhost:8080/"
        },
        "outputId": "72204e2f-712c-41b3-adc4-62b6a6dd380e"
      },
      "outputs": [
        {
          "output_type": "stream",
          "name": "stdout",
          "text": [
            "=== Configuration des modèles ===\n",
            "\n",
            "Modèle: LinearRegression\n",
            "Description: Régression linéaire standard sans hyperparamètres à tuner\n",
            "Hyperparamètres: Aucun\n",
            "\n",
            "Modèle: DecisionTree\n",
            "Description: Arbre de décision avec contrôle de la profondeur et split minimum\n",
            "Hyperparamètres: {'model__criterion': ['squared_error', 'absolute_error'], 'model__max_depth': [None, 5, 6, 7, 10], 'model__min_samples_split': [2, 3, 4, 5, 10]}\n",
            "\n",
            "Modèle: RandomForest\n",
            "Description: Forêt aléatoire\n",
            "Hyperparamètres: {'model__n_estimators': [50, 100, 150], 'model__criterion': ['squared_error'], 'model__max_depth': [None, 10, 20]}\n",
            "\n",
            "Modèle: GradientBoosting\n",
            "Description: Gradient Boosting avec contrôle du taux d'apprentissage et subsampling\n",
            "Hyperparamètres: {'model__loss': ['squared_error', 'absolute_error'], 'model__learning_rate': [0.01, 0.1, 0.2], 'model__n_estimators': [100, 200, 300], 'model__subsample': [0.5, 0.8, 1]}\n",
            "\n",
            "Modèle: MLP\n",
            "Description: Réseau de neurones multicouches avec early stopping (config réduite)\n",
            "Hyperparamètres: {'model__hidden_layer_sizes': [(50,), (100,), (100, 50)], 'model__activation': ['relu', 'tanh', 'logistic'], 'model__solver': ['adam'], 'model__alpha': [0.0001, 0.001, 0.01], 'model__learning_rate': ['constant', 'adaptive'], 'model__learning_rate_init': [0.001, 0.01, 0.1], 'model__max_iter': [200, 300]}\n"
          ]
        }
      ],
      "source": [
        "from sklearn.linear_model import LinearRegression\n",
        "from sklearn.tree import DecisionTreeRegressor\n",
        "from sklearn.ensemble import RandomForestRegressor, GradientBoostingRegressor\n",
        "from sklearn.neural_network import MLPRegressor\n",
        "\n",
        "# Configuration des modèles et hyperparamètres selon les spécifications du projet\n",
        "model_config = {\n",
        "    'LinearRegression': {\n",
        "        'model': LinearRegression(),\n",
        "        'params': {},\n",
        "        'description': \"Régression linéaire standard sans hyperparamètres à tuner\"\n",
        "    },\n",
        "    'DecisionTree': {\n",
        "        'model': DecisionTreeRegressor(random_state=42),\n",
        "        'params': {\n",
        "            'model__criterion': ['squared_error', 'absolute_error'],\n",
        "            'model__max_depth': [None, 5, 6, 7, 10],\n",
        "            'model__min_samples_split': [2, 3, 4, 5, 10]\n",
        "        },\n",
        "        'description': \"Arbre de décision avec contrôle de la profondeur et split minimum\"\n",
        "    },\n",
        "   'RandomForest': {\n",
        "        'model': RandomForestRegressor(random_state=42),\n",
        "        'params': {\n",
        "            'model__n_estimators': [50, 100, 150],\n",
        "            'model__criterion': ['squared_error'],\n",
        "            'model__max_depth': [None, 10, 20]\n",
        "        },\n",
        "        'description': \"Forêt aléatoire\"\n",
        "    },\n",
        "    'GradientBoosting': {\n",
        "        'model': GradientBoostingRegressor(random_state=42),\n",
        "        'params': {\n",
        "            'model__loss': ['squared_error', 'absolute_error'],\n",
        "            'model__learning_rate': [0.01, 0.1, 0.2],\n",
        "            'model__n_estimators': [100, 200, 300],\n",
        "            'model__subsample': [0.5, 0.8, 1]\n",
        "        },\n",
        "        'description': \"Gradient Boosting avec contrôle du taux d'apprentissage et subsampling\"\n",
        "    },\n",
        "    'MLP': {\n",
        "        'model': MLPRegressor(random_state=42, early_stopping=True),\n",
        "        'params': {\n",
        "            'model__hidden_layer_sizes': [(50,), (100,), (100, 50)],\n",
        "            'model__activation': ['relu', 'tanh','logistic'],\n",
        "            'model__solver': ['adam'],\n",
        "            'model__alpha': [0.0001, 0.001 ,0.01],\n",
        "            'model__learning_rate': ['constant', 'adaptive'],\n",
        "            'model__learning_rate_init': [0.001, 0.01 ,0.1],\n",
        "            'model__max_iter': [200, 300]\n",
        "        },\n",
        "        'description': \"Réseau de neurones multicouches avec early stopping (config réduite)\"\n",
        "    }\n",
        "}\n",
        "\n",
        "# Affichage des configurations pour vérification\n",
        "print(\"=== Configuration des modèles ===\")\n",
        "for nom, config in model_config.items():\n",
        "    print(f\"\\nModèle: {nom}\")\n",
        "    print(f\"Description: {config['description']}\")\n",
        "    print(f\"Hyperparamètres: {config['params'] if config['params'] else 'Aucun'}\")"
      ]
    },
    {
      "cell_type": "markdown",
      "id": "207e26ed-3da4-4843-9587-65513aa1f872",
      "metadata": {
        "id": "207e26ed-3da4-4843-9587-65513aa1f872"
      },
      "source": [
        "**7.2 - Entraînement et évaluation des modèles**\n",
        "\n",
        "Nous entraînons chaque modèle avec une validation croisée et évaluons leurs performances."
      ]
    },
    {
      "cell_type": "code",
      "execution_count": null,
      "id": "2684f168-34e8-4619-a8b4-8909139e2f70",
      "metadata": {
        "colab": {
          "base_uri": "https://localhost:8080/"
        },
        "id": "2684f168-34e8-4619-a8b4-8909139e2f70",
        "outputId": "b36eead2-5998-4f66-8493-caf6c76229d8"
      },
      "outputs": [
        {
          "output_type": "stream",
          "name": "stdout",
          "text": [
            "\n",
            "=== Entraînement du modèle LinearRegression ===\n",
            "Description: Régression linéaire standard sans hyperparamètres à tuner\n",
            "Terminé - R2: 0.777\n",
            "\n",
            "=== Entraînement du modèle DecisionTree ===\n",
            "Description: Arbre de décision avec contrôle de la profondeur et split minimum\n",
            "RandomizedSearchCV (40 itérations sur 50 combinaisons)\n",
            "Fitting 3 folds for each of 40 candidates, totalling 120 fits\n",
            "Terminé - R2: 0.847\n",
            "\n",
            "=== Entraînement du modèle RandomForest ===\n",
            "Description: Forêt aléatoire avec moins de combinaisons pour entraînement plus rapide\n",
            "GridSearchCV (9 combinaisons)\n",
            "Fitting 3 folds for each of 9 candidates, totalling 27 fits\n",
            "Terminé - R2: 0.861\n",
            "\n",
            "=== Entraînement du modèle GradientBoosting ===\n",
            "Description: Gradient Boosting avec contrôle du taux d'apprentissage et subsampling\n",
            "RandomizedSearchCV (40 itérations sur 54 combinaisons)\n",
            "Fitting 3 folds for each of 40 candidates, totalling 120 fits\n",
            "Terminé - R2: 0.871\n",
            "\n",
            "=== Entraînement du modèle MLP ===\n",
            "Description: Réseau de neurones multicouches avec early stopping (config réduite)\n",
            "RandomizedSearchCV (40 itérations sur 324 combinaisons)\n",
            "Fitting 3 folds for each of 40 candidates, totalling 120 fits\n"
          ]
        },
        {
          "output_type": "stream",
          "name": "stderr",
          "text": [
            "/usr/local/lib/python3.11/dist-packages/sklearn/model_selection/_search.py:409: VisibleDeprecationWarning: Creating an ndarray from ragged nested sequences (which is a list-or-tuple of lists-or-tuples-or ndarrays with different lengths or shapes) is deprecated. If you meant to do this, you must specify 'dtype=object' when creating the ndarray.\n",
            "  arr = np.array(param_list)\n"
          ]
        },
        {
          "output_type": "stream",
          "name": "stdout",
          "text": [
            "Terminé - R2: 0.871\n",
            "\n",
            "=== Résultats comparatifs ===\n",
            "\n",
            "Modèle LinearRegression:\n",
            "- R2: 0.777\n",
            "- MAE: 4759.0 DH\n",
            "- RMSE: 7032.9 DH\n",
            "- Meilleurs hyperparamètres:\n",
            "\n",
            "Modèle DecisionTree:\n",
            "- R2: 0.847\n",
            "- MAE: 3550.3 DH\n",
            "- RMSE: 5822.8 DH\n",
            "- Meilleurs hyperparamètres:\n",
            "  model__min_samples_split: 2\n",
            "  model__max_depth: 10\n",
            "  model__criterion: absolute_error\n",
            "\n",
            "Modèle RandomForest:\n",
            "- R2: 0.861\n",
            "- MAE: 3396.2 DH\n",
            "- RMSE: 5552.3 DH\n",
            "- Meilleurs hyperparamètres:\n",
            "  model__criterion: squared_error\n",
            "  model__max_depth: 10\n",
            "  model__n_estimators: 100\n",
            "\n",
            "Modèle GradientBoosting:\n",
            "- R2: 0.871\n",
            "- MAE: 3151.8 DH\n",
            "- RMSE: 5340.5 DH\n",
            "- Meilleurs hyperparamètres:\n",
            "  model__subsample: 0.8\n",
            "  model__n_estimators: 200\n",
            "  model__loss: squared_error\n",
            "  model__learning_rate: 0.2\n",
            "\n",
            "Modèle MLP:\n",
            "- R2: 0.871\n",
            "- MAE: 3143.6 DH\n",
            "- RMSE: 5337.1 DH\n",
            "- Meilleurs hyperparamètres:\n",
            "  model__solver: adam\n",
            "  model__max_iter: 300\n",
            "  model__learning_rate_init: 0.1\n",
            "  model__learning_rate: constant\n",
            "  model__hidden_layer_sizes: (50,)\n",
            "  model__alpha: 0.0001\n",
            "  model__activation: relu\n",
            "\n",
            "=== Meilleur modèle: MLP avec R2 = 0.871 ===\n",
            "Meilleur modèle sauvegardé dans 'meilleur_modele.joblib'\n"
          ]
        }
      ],
      "source": [
        "from sklearn.model_selection import GridSearchCV, RandomizedSearchCV\n",
        "from sklearn.metrics import mean_absolute_error, mean_squared_error, r2_score\n",
        "import numpy as np\n",
        "from joblib import dump\n",
        "from scipy.stats import randint, uniform\n",
        "from sklearn import config_context\n",
        "\n",
        "# Dictionnaire pour stocker les résultats\n",
        "resultats = {}\n",
        "\n",
        "def train_and_evaluate_models(X_train, y_train, X_test, y_test):\n",
        "    \"\"\"\n",
        "    Fonction optimisée pour entraîner et évaluer tous les modèles\n",
        "    \"\"\"\n",
        "    for nom, config in model_config.items():\n",
        "        print(f\"\\n=== Entraînement du modèle {nom} ===\")\n",
        "        print(f\"Description: {config['description']}\")\n",
        "\n",
        "        try:\n",
        "            # Création du pipeline\n",
        "            pipeline = Pipeline([\n",
        "                ('preprocessor', preprocessor),\n",
        "                ('model', config['model'])\n",
        "            ])\n",
        "\n",
        "            # Stratégie de recherche adaptative\n",
        "            if not config['params']:  # Pas d'hyperparamètres (LinearRegression)\n",
        "                search = pipeline\n",
        "                search.fit(X_train, y_train)\n",
        "                best_params = {}\n",
        "            else:\n",
        "                total_combinations = np.prod([len(v) for v in config['params'].values()])\n",
        "\n",
        "                # Choix de la méthode de recherche\n",
        "                if total_combinations <= 25:  # Seuil ajustable\n",
        "                    print(f\"GridSearchCV ({total_combinations} combinaisons)\")\n",
        "                    search = GridSearchCV(\n",
        "                        pipeline,\n",
        "                        param_grid=config['params'],\n",
        "                        cv=3,\n",
        "                        scoring='r2',\n",
        "                        n_jobs=4,\n",
        "                        verbose=1\n",
        "                    )\n",
        "                else:\n",
        "                    n_iter = min(40, total_combinations)  # Nombre d'itérations\n",
        "                    print(f\"RandomizedSearchCV ({n_iter} itérations sur {total_combinations} combinaisons)\")\n",
        "                    search = RandomizedSearchCV(\n",
        "                        pipeline,\n",
        "                        param_distributions=config['params'],\n",
        "                        n_iter=n_iter,\n",
        "                        cv=3,\n",
        "                        scoring='r2',\n",
        "                        n_jobs=4,\n",
        "                        verbose=1,\n",
        "                        random_state=42\n",
        "                    )\n",
        "\n",
        "                search.fit(X_train, y_train)\n",
        "                best_params = search.best_params_\n",
        "\n",
        "            # Évaluation\n",
        "            y_pred = search.predict(X_test)\n",
        "\n",
        "            # Stockage des résultats\n",
        "            resultats[nom] = {\n",
        "                'best_params': best_params,\n",
        "                'best_score': search.best_score_ if hasattr(search, 'best_score_') else None,\n",
        "                'mae': mean_absolute_error(y_test, y_pred),\n",
        "                'rmse': np.sqrt(mean_squared_error(y_test, y_pred)),\n",
        "                'r2': r2_score(y_test, y_pred),\n",
        "                'model': search.best_estimator_ if hasattr(search, 'best_estimator_') else search\n",
        "            }\n",
        "\n",
        "            print(f\"Terminé - R2: {resultats[nom]['r2']:.3f}\")\n",
        "\n",
        "        except Exception as e:\n",
        "            print(f\"Erreur avec {nom}: {str(e)}\")\n",
        "            resultats[nom] = None\n",
        "\n",
        "    return resultats\n",
        "\n",
        "\n",
        "def display_results(resultats):\n",
        "    \"\"\"\n",
        "    Affiche les résultats de manière organisée\n",
        "    \"\"\"\n",
        "    print(\"\\n=== Résultats comparatifs ===\")\n",
        "    for nom, res in resultats.items():\n",
        "        if res is not None:\n",
        "            print(f\"\\nModèle {nom}:\")\n",
        "            print(f\"- R2: {res['r2']:.3f}\")\n",
        "            print(f\"- MAE: {res['mae']:.1f} DH\")\n",
        "            print(f\"- RMSE: {res['rmse']:.1f} DH\")\n",
        "            print(\"- Meilleurs hyperparamètres:\")\n",
        "            for param, value in res['best_params'].items():\n",
        "                print(f\"  {param}: {value}\")\n",
        "\n",
        "def select_best_model(resultats):\n",
        "    \"\"\"\n",
        "    Sélectionne et sauvegarde le meilleur modèle\n",
        "    \"\"\"\n",
        "    meilleur_modele = None\n",
        "    meilleur_score = -np.inf\n",
        "\n",
        "    for nom, res in resultats.items():\n",
        "        if res is not None and res['r2'] > meilleur_score:\n",
        "            meilleur_score = res['r2']\n",
        "            meilleur_modele = nom\n",
        "\n",
        "    if meilleur_modele:\n",
        "        print(f\"\\n=== Meilleur modèle: {meilleur_modele} avec R2 = {meilleur_score:.3f} ===\")\n",
        "        dump(resultats[meilleur_modele]['model'], 'meilleur_modele.joblib')\n",
        "        print(\"Meilleur modèle sauvegardé dans 'meilleur_modele.joblib'\")\n",
        "        return resultats[meilleur_modele]['model']\n",
        "    else:\n",
        "        print(\"\\nAucun modèle valide n'a pu être entraîné\")\n",
        "        return None\n",
        "\n",
        "# Exécution du processus complet\n",
        "resultats = train_and_evaluate_models(X_train, y_train, X_test, y_test)\n",
        "display_results(resultats)\n",
        "best_model = select_best_model(resultats)"
      ]
    },
    {
      "cell_type": "markdown",
      "id": "28e3e9bb-b3f1-4462-966c-accf4f482d6d",
      "metadata": {
        "id": "28e3e9bb-b3f1-4462-966c-accf4f482d6d"
      },
      "source": [
        "7.3 - Sélection du meilleur modèle"
      ]
    },
    {
      "cell_type": "code",
      "execution_count": null,
      "id": "5ae88a62-9470-421a-862c-8b59f33f8ba3",
      "metadata": {
        "colab": {
          "base_uri": "https://localhost:8080/"
        },
        "id": "5ae88a62-9470-421a-862c-8b59f33f8ba3",
        "outputId": "1ab8f2b1-5e45-4513-e598-0b2f12d8b999"
      },
      "outputs": [
        {
          "output_type": "stream",
          "name": "stdout",
          "text": [
            "\n",
            "Meilleur modèle: MLP avec R2 = 0.871\n"
          ]
        }
      ],
      "source": [
        "# Filtrer les modèles valides\n",
        "resultats_valides = {\n",
        "    nom: infos for nom, infos in resultats.items()\n",
        "    if infos is not None and 'r2' in infos\n",
        "}\n",
        "\n",
        "if resultats_valides:\n",
        "    meilleur_modele_nom = max(resultats_valides, key=lambda x: resultats_valides[x]['r2'])\n",
        "    meilleur_modele = resultats_valides[meilleur_modele_nom]['model']\n",
        "\n",
        "    print(f\"\\nMeilleur modèle: {meilleur_modele_nom} avec R2 = {resultats_valides[meilleur_modele_nom]['r2']:.3f}\")\n",
        "else:\n",
        "    print(\"Aucun modèle valide n'a été trouvé.\")\n"
      ]
    },
    {
      "cell_type": "markdown",
      "id": "953b15a5-8504-4866-a2a4-0ad06f50ade2",
      "metadata": {
        "id": "953b15a5-8504-4866-a2a4-0ad06f50ade2"
      },
      "source": [
        "*Résultats attendus :*\n",
        "\n",
        "Comparaison des performances des modèles (MAE, RMSE, R²).\n",
        "\n",
        "Identification du modèle le plus performant ."
      ]
    },
    {
      "cell_type": "markdown",
      "id": "4efb628f-1985-4476-b691-630fb4c5000e",
      "metadata": {
        "id": "4efb628f-1985-4476-b691-630fb4c5000e"
      },
      "source": [
        "**Partie 8 : Sauvegarde et déploiement**\n",
        "\n",
        "*8.1 - Sauvegarde du modèle*\n",
        "\n",
        "Nous sauvegardons le modèle optimisé pour une utilisation ultérieure."
      ]
    },
    {
      "cell_type": "code",
      "execution_count": null,
      "id": "6656cac1-5598-4833-9b4f-f72bb32c9ca1",
      "metadata": {
        "colab": {
          "base_uri": "https://localhost:8080/"
        },
        "id": "6656cac1-5598-4833-9b4f-f72bb32c9ca1",
        "outputId": "ccc5ca2d-68b3-43a2-fdc1-5ebe53450bd2"
      },
      "outputs": [
        {
          "output_type": "stream",
          "name": "stdout",
          "text": [
            "Modèle sauvegardé sous model/modele_selection.joblib\n"
          ]
        }
      ],
      "source": [
        "import os\n",
        "\n",
        "import joblib\n",
        "\n",
        "os.makedirs(\"model\", exist_ok=True)\n",
        "\n",
        "# Dans votre dossier model/\n",
        "joblib.dump(meilleur_modele, \"model/modele_selection.joblib\")\n",
        "print(\"Modèle sauvegardé sous model/modele_selection.joblib\")\n"
      ]
    },
    {
      "cell_type": "markdown",
      "source": [
        "La ligne suivante dans un notebook Google Colab permet de télécharger un fichier depuis l'environnement Colab\n"
      ],
      "metadata": {
        "id": "4ojkr0HzNoHb"
      },
      "id": "4ojkr0HzNoHb"
    },
    {
      "cell_type": "code",
      "execution_count": null,
      "id": "kKti3CsOiZwB",
      "metadata": {
        "colab": {
          "base_uri": "https://localhost:8080/",
          "height": 17
        },
        "id": "kKti3CsOiZwB",
        "outputId": "bf1fddfe-0cc6-447f-c319-0edfbf814c04"
      },
      "outputs": [
        {
          "output_type": "display_data",
          "data": {
            "text/plain": [
              "<IPython.core.display.Javascript object>"
            ],
            "application/javascript": [
              "\n",
              "    async function download(id, filename, size) {\n",
              "      if (!google.colab.kernel.accessAllowed) {\n",
              "        return;\n",
              "      }\n",
              "      const div = document.createElement('div');\n",
              "      const label = document.createElement('label');\n",
              "      label.textContent = `Downloading \"${filename}\": `;\n",
              "      div.appendChild(label);\n",
              "      const progress = document.createElement('progress');\n",
              "      progress.max = size;\n",
              "      div.appendChild(progress);\n",
              "      document.body.appendChild(div);\n",
              "\n",
              "      const buffers = [];\n",
              "      let downloaded = 0;\n",
              "\n",
              "      const channel = await google.colab.kernel.comms.open(id);\n",
              "      // Send a message to notify the kernel that we're ready.\n",
              "      channel.send({})\n",
              "\n",
              "      for await (const message of channel.messages) {\n",
              "        // Send a message to notify the kernel that we're ready.\n",
              "        channel.send({})\n",
              "        if (message.buffers) {\n",
              "          for (const buffer of message.buffers) {\n",
              "            buffers.push(buffer);\n",
              "            downloaded += buffer.byteLength;\n",
              "            progress.value = downloaded;\n",
              "          }\n",
              "        }\n",
              "      }\n",
              "      const blob = new Blob(buffers, {type: 'application/binary'});\n",
              "      const a = document.createElement('a');\n",
              "      a.href = window.URL.createObjectURL(blob);\n",
              "      a.download = filename;\n",
              "      div.appendChild(a);\n",
              "      a.click();\n",
              "      div.remove();\n",
              "    }\n",
              "  "
            ]
          },
          "metadata": {}
        },
        {
          "output_type": "display_data",
          "data": {
            "text/plain": [
              "<IPython.core.display.Javascript object>"
            ],
            "application/javascript": [
              "download(\"download_1f0cdded-8bd5-4b76-97cc-30ee9f84db86\", \"modele_selection.joblib\", 53482)"
            ]
          },
          "metadata": {}
        }
      ],
      "source": [
        "from google.colab import files\n",
        "files.download('model/modele_selection.joblib')\n"
      ]
    },
    {
      "cell_type": "code",
      "execution_count": null,
      "id": "8SR6btGaiu64",
      "metadata": {
        "id": "8SR6btGaiu64"
      },
      "outputs": [],
      "source": [
        "# Charger le modèle sauvegardé\n",
        "modele_charge = joblib.load('model/modele_selection.joblib')\n"
      ]
    },
    {
      "cell_type": "code",
      "execution_count": null,
      "id": "EybOVthTetG_",
      "metadata": {
        "colab": {
          "base_uri": "https://localhost:8080/"
        },
        "id": "EybOVthTetG_",
        "outputId": "8ed77013-2a02-4c5e-d07a-f745de5ebccc"
      },
      "outputs": [
        {
          "output_type": "stream",
          "name": "stdout",
          "text": [
            "Requirement already satisfied: fastapi in /usr/local/lib/python3.11/dist-packages (0.115.12)\n",
            "Requirement already satisfied: uvicorn in /usr/local/lib/python3.11/dist-packages (0.34.2)\n",
            "Requirement already satisfied: starlette<0.47.0,>=0.40.0 in /usr/local/lib/python3.11/dist-packages (from fastapi) (0.46.2)\n",
            "Requirement already satisfied: pydantic!=1.8,!=1.8.1,!=2.0.0,!=2.0.1,!=2.1.0,<3.0.0,>=1.7.4 in /usr/local/lib/python3.11/dist-packages (from fastapi) (2.11.4)\n",
            "Requirement already satisfied: typing-extensions>=4.8.0 in /usr/local/lib/python3.11/dist-packages (from fastapi) (4.13.2)\n",
            "Requirement already satisfied: click>=7.0 in /usr/local/lib/python3.11/dist-packages (from uvicorn) (8.2.0)\n",
            "Requirement already satisfied: h11>=0.8 in /usr/local/lib/python3.11/dist-packages (from uvicorn) (0.16.0)\n",
            "Requirement already satisfied: annotated-types>=0.6.0 in /usr/local/lib/python3.11/dist-packages (from pydantic!=1.8,!=1.8.1,!=2.0.0,!=2.0.1,!=2.1.0,<3.0.0,>=1.7.4->fastapi) (0.7.0)\n",
            "Requirement already satisfied: pydantic-core==2.33.2 in /usr/local/lib/python3.11/dist-packages (from pydantic!=1.8,!=1.8.1,!=2.0.0,!=2.0.1,!=2.1.0,<3.0.0,>=1.7.4->fastapi) (2.33.2)\n",
            "Requirement already satisfied: typing-inspection>=0.4.0 in /usr/local/lib/python3.11/dist-packages (from pydantic!=1.8,!=1.8.1,!=2.0.0,!=2.0.1,!=2.1.0,<3.0.0,>=1.7.4->fastapi) (0.4.0)\n",
            "Requirement already satisfied: anyio<5,>=3.6.2 in /usr/local/lib/python3.11/dist-packages (from starlette<0.47.0,>=0.40.0->fastapi) (4.9.0)\n",
            "Requirement already satisfied: idna>=2.8 in /usr/local/lib/python3.11/dist-packages (from anyio<5,>=3.6.2->starlette<0.47.0,>=0.40.0->fastapi) (3.10)\n",
            "Requirement already satisfied: sniffio>=1.1 in /usr/local/lib/python3.11/dist-packages (from anyio<5,>=3.6.2->starlette<0.47.0,>=0.40.0->fastapi) (1.3.1)\n"
          ]
        }
      ],
      "source": [
        "!pip install fastapi uvicorn\n"
      ]
    },
    {
      "cell_type": "markdown",
      "source": [
        " comparer les performances de plusieurs modèles de machine learning sur un jeu de test"
      ],
      "metadata": {
        "id": "bT-l5gwdWg2e"
      },
      "id": "bT-l5gwdWg2e"
    },
    {
      "cell_type": "code",
      "execution_count": null,
      "id": "cKSD39r4lbLc",
      "metadata": {
        "colab": {
          "base_uri": "https://localhost:8080/",
          "height": 881
        },
        "id": "cKSD39r4lbLc",
        "outputId": "05d724a8-7359-4014-acea-dcb9d55e00d6"
      },
      "outputs": [
        {
          "output_type": "stream",
          "name": "stdout",
          "text": [
            "\n",
            "Tableau Comparatif des Performances des Modèles sur l'Ensemble de Test:\n",
            "                        r2          mae         rmse\n",
            "MLP               0.871487  3143.638102  5337.088294\n",
            "GradientBoosting  0.871323  3151.796185  5340.488018\n",
            "RandomForest      0.860916  3396.165952  5552.250895\n",
            "DecisionTree      0.847031  3550.306774  5822.798824\n",
            "LinearRegression  0.776841  4759.038824  7032.948883\n"
          ]
        },
        {
          "output_type": "display_data",
          "data": {
            "text/plain": [
              "<Figure size 1000x600 with 1 Axes>"
            ],
            "image/png": "[encoded data removed]"
          },
          "metadata": {}
        },
        {
          "output_type": "stream",
          "name": "stdout",
          "text": [
            "\n",
            "Le meilleur modèle identifié est : MLP\n",
            "Score R² sur l'ensemble de test : 0.8715\n",
            "MAE sur l'ensemble de test : 3143.64\n",
            "RMSE sur l'ensemble de test : 5337.09\n",
            "Meilleurs hyperparamètres trouvés : {'model__solver': 'adam', 'model__max_iter': 300, 'model__learning_rate_init': 0.1, 'model__learning_rate': 'constant', 'model__hidden_layer_sizes': (50,), 'model__alpha': 0.0001, 'model__activation': 'relu'}\n"
          ]
        }
      ],
      "source": [
        "# Créer un DataFrame pour une meilleure visualisation\n",
        "results_df = pd.DataFrame(resultats).T  # Transposer pour avoir les modèles en lignes\n",
        "results_df = results_df[['r2', 'mae', 'rmse', 'best_score', 'best_params']] # Sélection et ordre des colonnes\n",
        "results_df = results_df.sort_values(by='r2', ascending=False) # Trier par R2\n",
        "\n",
        "print(\"\\nTableau Comparatif des Performances des Modèles sur l'Ensemble de Test:\")\n",
        "print(results_df[['r2', 'mae', 'rmse']])\n",
        "\n",
        "# Visualisation (optionnelle mais recommandée)\n",
        "plt.figure(figsize=(10, 6))\n",
        "sns.barplot(x=results_df.index, y=results_df['r2'])\n",
        "plt.title('Comparaison du R² des modèles sur l\\'ensemble de test')\n",
        "plt.xlabel('Modèle')\n",
        "plt.ylabel('Score R²')\n",
        "plt.xticks(rotation=45, ha='right')\n",
        "plt.tight_layout()\n",
        "plt.show()\n",
        "\n",
        "print(f\"\\nLe meilleur modèle identifié est : {meilleur_modele_nom}\")\n",
        "print(f\"Score R² sur l'ensemble de test : {resultats[meilleur_modele_nom]['r2']:.4f}\")\n",
        "print(f\"MAE sur l'ensemble de test : {resultats[meilleur_modele_nom]['mae']:.2f}\")\n",
        "print(f\"RMSE sur l'ensemble de test : {resultats[meilleur_modele_nom]['rmse']:.2f}\")\n",
        "print(f\"Meilleurs hyperparamètres trouvés : {resultats[meilleur_modele_nom]['best_params']}\")"
      ]
    },
    {
      "cell_type": "markdown",
      "source": [
        "évaluer visuellement les performances du meilleur modèle de machine learning en analysant :\n",
        "\n",
        " -La qualité des prédictions par rapport aux vraies valeurs\n",
        "\n",
        "-La distribution des erreurs (résidus)"
      ],
      "metadata": {
        "id": "ucmUti18XDwl"
      },
      "id": "ucmUti18XDwl"
    },
    {
      "cell_type": "code",
      "execution_count": null,
      "id": "yJbxwaovmbq2",
      "metadata": {
        "colab": {
          "base_uri": "https://localhost:8080/",
          "height": 1000
        },
        "id": "yJbxwaovmbq2",
        "outputId": "134ae75d-1d30-45d0-9776-ef4a88e162c9"
      },
      "outputs": [
        {
          "output_type": "display_data",
          "data": {
            "text/plain": [
              "<Figure size 800x800 with 1 Axes>"
            ],
            "image/png": "[encoded data removed]"
          },
          "metadata": {}
        },
        {
          "output_type": "display_data",
          "data": {
            "text/plain": [
              "<Figure size 800x600 with 1 Axes>"
            ],
            "image/png": "[encoded data removed]"
          },
          "metadata": {}
        }
      ],
      "source": [
        "# Prédictions du meilleur modèle sur le set de test\n",
        "y_pred_best = meilleur_modele.predict(X_test)\n",
        "residus = y_test - y_pred_best\n",
        "\n",
        "# Graphique des prédictions vs valeurs réelles\n",
        "plt.figure(figsize=(8, 8))\n",
        "plt.scatter(y_test, y_pred_best, alpha=0.5)\n",
        "plt.plot([y_test.min(), y_test.max()], [y_test.min(), y_test.max()], '--r', linewidth=2)\n",
        "plt.xlabel('Revenu Annuel Réel')\n",
        "plt.ylabel('Revenu Annuel Prédit')\n",
        "plt.title(f'Prédictions vs Valeurs Réelles ({meilleur_modele_nom})')\n",
        "plt.show()\n",
        "\n",
        "# Histogramme des résidus\n",
        "plt.figure(figsize=(8, 6))\n",
        "sns.histplot(residus, kde=True)\n",
        "plt.xlabel('Résidus (Réel - Prédit)')\n",
        "plt.title('Distribution des Résidus')\n",
        "plt.show()"
      ]
    },
    {
      "cell_type": "markdown",
      "source": [
        "**observation**\n",
        "\n",
        "la distribution des résidus, c'est-à-dire les différences entre les valeurs réelles et les valeurs prédites par le modèle MLP\n",
        "\n",
        "\"Un résidu de 0 signifie une prédiction parfaite\""
      ],
      "metadata": {
        "id": "EPeaqWxjYbcZ"
      },
      "id": "EPeaqWxjYbcZ"
    },
    {
      "cell_type": "code",
      "execution_count": null,
      "id": "hoVy6GurmnG2",
      "metadata": {
        "colab": {
          "base_uri": "https://localhost:8080/"
        },
        "id": "hoVy6GurmnG2",
        "outputId": "c4952684-ecdf-4a39-bdbb-8b8e430506b2"
      },
      "outputs": [
        {
          "output_type": "stream",
          "name": "stdout",
          "text": [
            "\n",
            "Meilleur modèle (MLP) sauvegardé dans 'modele_selection.joblib'\n",
            "\n",
            "Modèle chargé avec succès.\n"
          ]
        }
      ],
      "source": [
        "# Sauvegarder le meilleur modèle (pipeline complet)\n",
        "nom_fichier_modele = 'modele_selection.joblib'\n",
        "joblib.dump(meilleur_modele, nom_fichier_modele)\n",
        "\n",
        "print(f\"\\nMeilleur modèle ({meilleur_modele_nom}) sauvegardé dans '{nom_fichier_modele}'\")\n",
        "\n",
        "# Vérifier le chargement (optionnel mais recommandé)\n",
        "loaded_model = joblib.load(nom_fichier_modele)\n",
        "print(\"\\nModèle chargé avec succès.\")\n",
        "# Faire une prédiction test avec le modèle chargé\n",
        "# print(loaded_model.predict(X_test.iloc[0:1])) # Prédit sur la première ligne de X_test"
      ]
    }
  ],
  "metadata": {
    "colab": {
      "provenance": []
    },
    "kernelspec": {
      "display_name": "Python 3 (ipykernel)",
      "language": "python",
      "name": "python3"
    },
    "language_info": {
      "codemirror_mode": {
        "name": "ipython",
        "version": 3
      },
      "file_extension": ".py",
      "mimetype": "text/x-python",
      "name": "python",
      "nbconvert_exporter": "python",
      "pygments_lexer": "ipython3",
      "version": "3.11.9"
    },
    "widgets": {
      "application/vnd.jupyter.widget-state+json": {
        "8d27d8da77f2435e9902f2e2f1b435f4": {
          "model_module": "@jupyter-widgets/controls",
          "model_name": "HBoxModel",
          "model_module_version": "1.5.0",
          "state": {
            "_dom_classes": [],
            "_model_module": "@jupyter-widgets/controls",
            "_model_module_version": "1.5.0",
            "_model_name": "HBoxModel",
            "_view_count": null,
            "_view_module": "@jupyter-widgets/controls",
            "_view_module_version": "1.5.0",
            "_view_name": "HBoxView",
            "box_style": "",
            "children": [
              "IPY_MODEL_2dc2397be8334644b173e3bb74266504",
              "IPY_MODEL_1e41b0a469f84f12a2ea86fde070b6c4",
              "IPY_MODEL_1c1a0d76d4d548628ba8027e315a829a"
            ],
            "layout": "IPY_MODEL_3ef05727183d46d3ad24e84eaac8885d"
          }
        },
        "2dc2397be8334644b173e3bb74266504": {
          "model_module": "@jupyter-widgets/controls",
          "model_name": "HTMLModel",
          "model_module_version": "1.5.0",
          "state": {
            "_dom_classes": [],
            "_model_module": "@jupyter-widgets/controls",
            "_model_module_version": "1.5.0",
            "_model_name": "HTMLModel",
            "_view_count": null,
            "_view_module": "@jupyter-widgets/controls",
            "_view_module_version": "1.5.0",
            "_view_name": "HTMLView",
            "description": "",
            "description_tooltip": null,
            "layout": "IPY_MODEL_da38c649e8124f0ca37084e2f9e41247",
            "placeholder": "​",
            "style": "IPY_MODEL_2286bb8f76794ef1814cb7b1f0d3d8e1",
            "value": "Done! Use &#x27;show&#x27; commands to display/save.   "
          }
        },
        "1e41b0a469f84f12a2ea86fde070b6c4": {
          "model_module": "@jupyter-widgets/controls",
          "model_name": "FloatProgressModel",
          "model_module_version": "1.5.0",
          "state": {
            "_dom_classes": [],
            "_model_module": "@jupyter-widgets/controls",
            "_model_module_version": "1.5.0",
            "_model_name": "FloatProgressModel",
            "_view_count": null,
            "_view_module": "@jupyter-widgets/controls",
            "_view_module_version": "1.5.0",
            "_view_name": "ProgressView",
            "bar_style": "success",
            "description": "",
            "description_tooltip": null,
            "layout": "IPY_MODEL_d62e0f9011ba47e5a546c13fb06716ea",
            "max": 1,
            "min": 0,
            "orientation": "horizontal",
            "style": "IPY_MODEL_7625c73146cb4d748647726389505a4f",
            "value": 1
          }
        },
        "1c1a0d76d4d548628ba8027e315a829a": {
          "model_module": "@jupyter-widgets/controls",
          "model_name": "HTMLModel",
          "model_module_version": "1.5.0",
          "state": {
            "_dom_classes": [],
            "_model_module": "@jupyter-widgets/controls",
            "_model_module_version": "1.5.0",
            "_model_name": "HTMLModel",
            "_view_count": null,
            "_view_module": "@jupyter-widgets/controls",
            "_view_module_version": "1.5.0",
            "_view_name": "HTMLView",
            "description": "",
            "description_tooltip": null,
            "layout": "IPY_MODEL_4a70348cd54e450cb115c133afc13409",
            "placeholder": "​",
            "style": "IPY_MODEL_a3bcd2d55dab499fbd46b1a3665baa45",
            "value": " [100%]   00:00 -&gt; (00:00 left)"
          }
        },
        "3ef05727183d46d3ad24e84eaac8885d": {
          "model_module": "@jupyter-widgets/base",
          "model_name": "LayoutModel",
          "model_module_version": "1.2.0",
          "state": {
            "_model_module": "@jupyter-widgets/base",
            "_model_module_version": "1.2.0",
            "_model_name": "LayoutModel",
            "_view_count": null,
            "_view_module": "@jupyter-widgets/base",
            "_view_module_version": "1.2.0",
            "_view_name": "LayoutView",
            "align_content": null,
            "align_items": null,
            "align_self": null,
            "border": null,
            "bottom": null,
            "display": "inline-flex",
            "flex": null,
            "flex_flow": "row wrap",
            "grid_area": null,
            "grid_auto_columns": null,
            "grid_auto_flow": null,
            "grid_auto_rows": null,
            "grid_column": null,
            "grid_gap": null,
            "grid_row": null,
            "grid_template_areas": null,
            "grid_template_columns": null,
            "grid_template_rows": null,
            "height": null,
            "justify_content": null,
            "justify_items": null,
            "left": null,
            "margin": null,
            "max_height": null,
            "max_width": null,
            "min_height": null,
            "min_width": null,
            "object_fit": null,
            "object_position": null,
            "order": null,
            "overflow": null,
            "overflow_x": null,
            "overflow_y": null,
            "padding": null,
            "right": null,
            "top": null,
            "visibility": null,
            "width": "100%"
          }
        },
        "da38c649e8124f0ca37084e2f9e41247": {
          "model_module": "@jupyter-widgets/base",
          "model_name": "LayoutModel",
          "model_module_version": "1.2.0",
          "state": {
            "_model_module": "@jupyter-widgets/base",
            "_model_module_version": "1.2.0",
            "_model_name": "LayoutModel",
            "_view_count": null,
            "_view_module": "@jupyter-widgets/base",
            "_view_module_version": "1.2.0",
            "_view_name": "LayoutView",
            "align_content": null,
            "align_items": null,
            "align_self": null,
            "border": null,
            "bottom": null,
            "display": null,
            "flex": null,
            "flex_flow": null,
            "grid_area": null,
            "grid_auto_columns": null,
            "grid_auto_flow": null,
            "grid_auto_rows": null,
            "grid_column": null,
            "grid_gap": null,
            "grid_row": null,
            "grid_template_areas": null,
            "grid_template_columns": null,
            "grid_template_rows": null,
            "height": null,
            "justify_content": null,
            "justify_items": null,
            "left": null,
            "margin": null,
            "max_height": null,
            "max_width": null,
            "min_height": null,
            "min_width": null,
            "object_fit": null,
            "object_position": null,
            "order": null,
            "overflow": null,
            "overflow_x": null,
            "overflow_y": null,
            "padding": null,
            "right": null,
            "top": null,
            "visibility": null,
            "width": null
          }
        },
        "2286bb8f76794ef1814cb7b1f0d3d8e1": {
          "model_module": "@jupyter-widgets/controls",
          "model_name": "DescriptionStyleModel",
          "model_module_version": "1.5.0",
          "state": {
            "_model_module": "@jupyter-widgets/controls",
            "_model_module_version": "1.5.0",
            "_model_name": "DescriptionStyleModel",
            "_view_count": null,
            "_view_module": "@jupyter-widgets/base",
            "_view_module_version": "1.2.0",
            "_view_name": "StyleView",
            "description_width": ""
          }
        },
        "d62e0f9011ba47e5a546c13fb06716ea": {
          "model_module": "@jupyter-widgets/base",
          "model_name": "LayoutModel",
          "model_module_version": "1.2.0",
          "state": {
            "_model_module": "@jupyter-widgets/base",
            "_model_module_version": "1.2.0",
            "_model_name": "LayoutModel",
            "_view_count": null,
            "_view_module": "@jupyter-widgets/base",
            "_view_module_version": "1.2.0",
            "_view_name": "LayoutView",
            "align_content": null,
            "align_items": null,
            "align_self": null,
            "border": null,
            "bottom": null,
            "display": null,
            "flex": "2",
            "flex_flow": null,
            "grid_area": null,
            "grid_auto_columns": null,
            "grid_auto_flow": null,
            "grid_auto_rows": null,
            "grid_column": null,
            "grid_gap": null,
            "grid_row": null,
            "grid_template_areas": null,
            "grid_template_columns": null,
            "grid_template_rows": null,
            "height": null,
            "justify_content": null,
            "justify_items": null,
            "left": null,
            "margin": null,
            "max_height": null,
            "max_width": null,
            "min_height": null,
            "min_width": null,
            "object_fit": null,
            "object_position": null,
            "order": null,
            "overflow": null,
            "overflow_x": null,
            "overflow_y": null,
            "padding": null,
            "right": null,
            "top": null,
            "visibility": null,
            "width": null
          }
        },
        "7625c73146cb4d748647726389505a4f": {
          "model_module": "@jupyter-widgets/controls",
          "model_name": "ProgressStyleModel",
          "model_module_version": "1.5.0",
          "state": {
            "_model_module": "@jupyter-widgets/controls",
            "_model_module_version": "1.5.0",
            "_model_name": "ProgressStyleModel",
            "_view_count": null,
            "_view_module": "@jupyter-widgets/base",
            "_view_module_version": "1.2.0",
            "_view_name": "StyleView",
            "bar_color": null,
            "description_width": ""
          }
        },
        "4a70348cd54e450cb115c133afc13409": {
          "model_module": "@jupyter-widgets/base",
          "model_name": "LayoutModel",
          "model_module_version": "1.2.0",
          "state": {
            "_model_module": "@jupyter-widgets/base",
            "_model_module_version": "1.2.0",
            "_model_name": "LayoutModel",
            "_view_count": null,
            "_view_module": "@jupyter-widgets/base",
            "_view_module_version": "1.2.0",
            "_view_name": "LayoutView",
            "align_content": null,
            "align_items": null,
            "align_self": null,
            "border": null,
            "bottom": null,
            "display": null,
            "flex": null,
            "flex_flow": null,
            "grid_area": null,
            "grid_auto_columns": null,
            "grid_auto_flow": null,
            "grid_auto_rows": null,
            "grid_column": null,
            "grid_gap": null,
            "grid_row": null,
            "grid_template_areas": null,
            "grid_template_columns": null,
            "grid_template_rows": null,
            "height": null,
            "justify_content": null,
            "justify_items": null,
            "left": null,
            "margin": null,
            "max_height": null,
            "max_width": null,
            "min_height": null,
            "min_width": null,
            "object_fit": null,
            "object_position": null,
            "order": null,
            "overflow": null,
            "overflow_x": null,
            "overflow_y": null,
            "padding": null,
            "right": null,
            "top": null,
            "visibility": null,
            "width": null
          }
        },
        "a3bcd2d55dab499fbd46b1a3665baa45": {
          "model_module": "@jupyter-widgets/controls",
          "model_name": "DescriptionStyleModel",
          "model_module_version": "1.5.0",
          "state": {
            "_model_module": "@jupyter-widgets/controls",
            "_model_module_version": "1.5.0",
            "_model_name": "DescriptionStyleModel",
            "_view_count": null,
            "_view_module": "@jupyter-widgets/base",
            "_view_module_version": "1.2.0",
            "_view_name": "StyleView",
            "description_width": ""
          }
        }
      }
    }
  },
  "nbformat": 4,
  "nbformat_minor": 5
}